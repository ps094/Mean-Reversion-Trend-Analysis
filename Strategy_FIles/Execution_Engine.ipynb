{
 "cells": [
  {
   "cell_type": "code",
   "execution_count": 90,
   "id": "1ec27958",
   "metadata": {},
   "outputs": [],
   "source": [
    "import pandas as pd\n",
    "import numpy as np\n",
    "import datetime\n",
    "from pytz import timezone\n",
    "import time\n",
    "import warnings\n",
    "warnings.filterwarnings(\"ignore\")\n",
    "import copy\n",
    "\n",
    "import Config\n",
    "import Order_Execution\n",
    "import BS\n",
    "\n",
    "from pymongo import MongoClient\n",
    "client=MongoClient(Config.DB_Hostname,Config.DB_Port)"
   ]
  },
  {
   "cell_type": "code",
   "execution_count": 91,
   "id": "9f98e57d",
   "metadata": {},
   "outputs": [],
   "source": [
    "class Execution_Engine:\n",
    "    \n",
    "    def __init__(self):\n",
    "        \n",
    "        self.ack_number = 0 #send to order_acks\n",
    "        self.req_number = 0 #received from order_requests\n",
    "        \n",
    "        self.order_requests =[]\n",
    "        \n",
    "        print(\"Execution Engine Initialized\")\n",
    "        \n",
    "    def _get_order_requests(self):\n",
    "         \n",
    "        order_requests = pd.DataFrame(client.Live_Trading.Order_Requests.find()).drop(columns = ['_id'])\n",
    "        \n",
    "        order_requests = order_requests[order_requests.request_number == self.req_number+1]\n",
    "        #order_requests = order_requests[order_requests.request_number > self.req_number]\n",
    "        if len(order_requests)>0:\n",
    "            #self.req_number = order_requests.request_number.max()\n",
    "            self.req_number+=1\n",
    "    \n",
    "        self.order_requests.append(order_requests)"
   ]
  },
  {
   "cell_type": "code",
   "execution_count": 74,
   "id": "b45a05c2",
   "metadata": {},
   "outputs": [
    {
     "name": "stdout",
     "output_type": "stream",
     "text": [
      "Execution Engine Initialized\n"
     ]
    }
   ],
   "source": [
    "self = Execution_Engine()"
   ]
  },
  {
   "cell_type": "code",
   "execution_count": 87,
   "id": "21229998",
   "metadata": {},
   "outputs": [],
   "source": [
    "self._get_order_requests()"
   ]
  },
  {
   "cell_type": "code",
   "execution_count": 88,
   "id": "6c51275c",
   "metadata": {},
   "outputs": [
    {
     "data": {
      "text/plain": [
       "5"
      ]
     },
     "execution_count": 88,
     "metadata": {},
     "output_type": "execute_result"
    }
   ],
   "source": [
    "self.req_number"
   ]
  },
  {
   "cell_type": "code",
   "execution_count": 89,
   "id": "3d33197d",
   "metadata": {},
   "outputs": [
    {
     "data": {
      "text/plain": [
       "5"
      ]
     },
     "execution_count": 89,
     "metadata": {},
     "output_type": "execute_result"
    }
   ],
   "source": [
    "len(self.order_requests)"
   ]
  },
  {
   "cell_type": "code",
   "execution_count": null,
   "id": "1646151e",
   "metadata": {},
   "outputs": [],
   "source": []
  },
  {
   "cell_type": "code",
   "execution_count": null,
   "id": "5ddd442c",
   "metadata": {},
   "outputs": [],
   "source": []
  }
 ],
 "metadata": {
  "kernelspec": {
   "display_name": "Python 3 (ipykernel)",
   "language": "python",
   "name": "python3"
  },
  "language_info": {
   "codemirror_mode": {
    "name": "ipython",
    "version": 3
   },
   "file_extension": ".py",
   "mimetype": "text/x-python",
   "name": "python",
   "nbconvert_exporter": "python",
   "pygments_lexer": "ipython3",
   "version": "3.10.9"
  }
 },
 "nbformat": 4,
 "nbformat_minor": 5
}
