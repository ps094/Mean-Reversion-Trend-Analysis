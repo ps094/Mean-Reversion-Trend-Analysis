{
 "cells": [
  {
   "cell_type": "code",
   "execution_count": 2,
   "id": "c2d6d153",
   "metadata": {
    "scrolled": false
   },
   "outputs": [
    {
     "name": "stdout",
     "output_type": "stream",
     "text": [
      "375  documents deleted for 2024-02-21\n",
      "375  documents entered for 2024-02-21\n",
      "\n",
      "375  documents deleted for 2024-02-22\n",
      "375  documents entered for 2024-02-22\n",
      "\n",
      "0  documents deleted for 2024-02-23\n",
      "375  documents entered for 2024-02-23\n",
      "\n"
     ]
    }
   ],
   "source": [
    "from kiteconnect import KiteConnect\n",
    "from datetime import datetime,date,timedelta \n",
    "from pymongo import MongoClient\n",
    "import pandas as pd\n",
    "import Config\n",
    "import time\n",
    "client = MongoClient(Config.DB_Hostname, Config.DB_Port)\n",
    "\n",
    "kite = KiteConnect(api_key=\"f6y99004f52fcntd\")\n",
    "kite_session = kite.generate_session(\"YlzgXhKimitWExHlaMulgTVedH6bwMgF\", api_secret=\"wkut36radrfk28vr2to4wmqhpv67akxv\")\n",
    "kite.set_access_token(kite_session[\"access_token\"])\n",
    "\n",
    "start_date=date(2024,2,21)\n",
    "date_formatted=start_date.strftime(\"%Y-%m-%d\")\n",
    "\n",
    "while date_formatted!=\"2024-02-24\":\n",
    "    \n",
    "    time.sleep(0.35)\n",
    "    \n",
    "    try:\n",
    "        df=pd.DataFrame(kite.historical_data(256265, f\"{date_formatted} 09:14:00\", f\"{date_formatted} 15:31:00\", \"minute\"))\n",
    "    except Exception as e:\n",
    "        print(\"Not able to call KITE Server. Retrying !!! \",e)\n",
    "        time.sleep(60)\n",
    "        continue\n",
    "        \n",
    "    if len(df)==0:\n",
    "        print(f\"\\nEmpty File for{date_formatted}\\n\")\n",
    "    elif len(df)!=375:\n",
    "        print(f\"{date_formatted} has {len(df)} rows. Check manually\")\n",
    "        while len(df)<375:\n",
    "            df.loc[len(df)] = list(df.loc[len(df)-1])\n",
    "    else:\n",
    "        df.sort_values(by=[\"date\"],inplace=True)\n",
    "        df[\"batch_id\"]=list(range(1,376))\n",
    "        df[\"date\"]=date_formatted\n",
    "        df.drop(columns=['volume'],inplace=True)\n",
    "        print(client.Strategy.NIFTYOHLC.delete_many({\"date\":date_formatted}).deleted_count,f\" documents deleted for {date_formatted}\")\n",
    "        print(len(client.Strategy.NIFTYOHLC.insert_many(df.to_dict('records')).inserted_ids),f\" documents entered for {date_formatted}\\n\")\n",
    "    \n",
    "    \n",
    "    start_date+=timedelta(days = 1)\n",
    "    date_formatted=start_date.strftime(\"%Y-%m-%d\")"
   ]
  },
  {
   "cell_type": "code",
   "execution_count": null,
   "id": "94818d95",
   "metadata": {},
   "outputs": [],
   "source": []
  }
 ],
 "metadata": {
  "kernelspec": {
   "display_name": "Python 3 (ipykernel)",
   "language": "python",
   "name": "python3"
  },
  "language_info": {
   "codemirror_mode": {
    "name": "ipython",
    "version": 3
   },
   "file_extension": ".py",
   "mimetype": "text/x-python",
   "name": "python",
   "nbconvert_exporter": "python",
   "pygments_lexer": "ipython3",
   "version": "3.10.9"
  }
 },
 "nbformat": 4,
 "nbformat_minor": 5
}
