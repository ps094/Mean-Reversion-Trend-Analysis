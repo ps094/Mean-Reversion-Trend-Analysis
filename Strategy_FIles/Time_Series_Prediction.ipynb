{
 "cells": [
  {
   "cell_type": "code",
   "execution_count": 1,
   "id": "5586d850",
   "metadata": {},
   "outputs": [],
   "source": [
    "import numpy as np\n",
    "import pandas as pd\n",
    "from pymongo import MongoClient\n",
    "import Config\n",
    "import warnings\n",
    "import matplotlib.pyplot as plt\n",
    "warnings.filterwarnings(\"ignore\")\n",
    "client=MongoClient(Config.DB_Hostname,Config.DB_Port)\n",
    "#pd.set_option('display.max_rows', None)\n",
    "#pd.set_option('display.max_columns', None)\n"
   ]
  },
  {
   "cell_type": "code",
   "execution_count": 2,
   "id": "fa157ccd",
   "metadata": {},
   "outputs": [],
   "source": [
    "class Prediction_Engine:\n",
    "    \n",
    "    def __init__(self, data_start_date, data_end_date, prediction_date, underlying):\n",
    "        \n",
    "        self.data_start_date=data_start_date #2017-01-01\n",
    "        self.data_end_date=data_end_date #2017-01-01\n",
    "        self.prediction_date=prediction_date #2017-01-01\n",
    "        self.underlying=underlying #NIFTY,BANKNIFTY\n",
    "        \n",
    "        #self.underlying_prices=pd.DataFrame(client[f'{Config.Data_DB}'][f'{self.underlying}OHLC'].find())\n",
    "        #self.underlying_simulated_parameters=pd.DataFrame(client[f'{Config.Data_DB}'][f'{self.underlying}_Simulated_Parameters'].find())\n",
    "        #self.vol_surface=pd.DataFrame(client[f'{Config.Data_DB}']['Vol_Surface'].find())\n",
    "        #self.days_to_expiry=pd.DataFrame(client[f'{Config.Data_DB}']['Days_To_Expiry'].find())\n",
    "        \n",
    "        self.underlying_prices=pd.read_csv('prices.csv')\n",
    "        self.underlying_simulated_parameters=pd.read_csv('param.csv')\n",
    "        self.vol_surface=pd.read_csv('vol_surface.csv')\n",
    "        self.days_to_expiry=pd.read_csv('days_to_expiry.csv')\n",
    "        \n",
    "        self.underlying_prices=self.underlying_prices.sort_values(['date','batch_id']).drop(columns=['Unnamed: 0','_id'])\n",
    "        self.underlying_simulated_parameters=self.underlying_simulated_parameters.sort_values(['date','strategy_variant']).drop(columns=['Unnamed: 0','_id'])\n",
    "        self.vol_surface=self.vol_surface.sort_values(['date','SYMBOL']).drop(columns=['Unnamed: 0','_id'])\n",
    "        self.days_to_expiry=self.days_to_expiry.sort_values(['date']).drop(columns=['Unnamed: 0','_id'])\n",
    "        \n",
    "        columns_to_drop=['underlying','sim_number','strike_offset','drawdown_count', 'trade_count', 'capital', 'pnl',\n",
    "       'first_drawdown_pnl', 'second_drawdown_pnl', 'taylor_sensitivity_1',\n",
    "       'taylor_sensitivity_2', 'taylor_sensitivity_3', 'pos_dev', 'mov_dev',\n",
    "       'prof_dev', 'pos_diff', 'mov_diff', 'prof_diff', 'pmpr_diff','variant_pnl_mean',\n",
    "       'variant_positive_pnl_mean', 'variant_negative_pnl_mean',\n",
    "       'variant_profit_percent', 'variant_pnl_stdev',\n",
    "       'variant_positive_pnl_stdev', 'variant_negative_pnl_stdev',\n",
    "       'variant_pnl_skew', 'variant_positive_pnl_skew',\n",
    "       'variant_negative_pnl_skew', 'variant_pnl_kurtosis',\n",
    "       'variant_positive_pnl_kurtosis', 'variant_negative_pnl_kurtosis',\n",
    "       'variant_fav_drawdown_percent', 'variant_ts1_pnl_corr',\n",
    "       'variant_ts2_pnl_corr', 'variant_ts3_pnl_corr', 'variant_ts1_mean',\n",
    "       'variant_ts2_mean', 'variant_ts3_mean', 'variant_ts1_stdev',\n",
    "       'variant_ts2_stdev', 'variant_ts3_stdev', 'variant_pdev_mean',\n",
    "       'variant_mdev_mean', 'variant_prdev_mean', 'variant_pdev_stdev',\n",
    "       'variant_mdev_stdev', 'variant_prdev_stdev', 'variant_pnl_pdiff_corr',\n",
    "       'variant_pnl_mdiff_corr', 'variant_pnl_prdiff_corr',\n",
    "       'variant_pnl_pmprdiff_corr', 'variant_ts1_pdiff_corr',\n",
    "       'variant_ts1_mdiff_corr', 'variant_ts1_prdiff_corr',\n",
    "       'variant_ts1_pmprdiff_corr', 'variant_ts2_pdiff_corr',\n",
    "       'variant_ts2_mdiff_corr', 'variant_ts2_prdiff_corr',\n",
    "       'variant_ts2_pmprdiff_corr', 'variant_ts3_pdiff_corr',\n",
    "       'variant_ts3_mdiff_corr', 'variant_ts3_prdiff_corr',\n",
    "       'variant_ts3_pmprdiff_corr', 'variant_pdev_pdiff_corr',\n",
    "       'variant_pdev_mdiff_corr', 'variant_pdev_prdiff_corr',\n",
    "       'variant_pdev_pmprdiff_corr', 'variant_mdev_pdiff_corr',\n",
    "       'variant_mdev_mdiff_corr', 'variant_mdev_prdiff_corr',\n",
    "       'variant_mdev_pmprdiff_corr', 'variant_prdev_pdiff_corr',\n",
    "       'variant_prdev_mdiff_corr', 'variant_prdev_prdiff_corr',\n",
    "       'variant_prdev_pmprdiff_corr', 'variant_ts1_pdev_corr',\n",
    "       'variant_ts1_mdev_corr', 'variant_ts1_prdev_corr',\n",
    "       'variant_ts2_pdev_corr', 'variant_ts2_mdev_corr',\n",
    "       'variant_ts2_prdev_corr', 'variant_ts3_pdev_corr',\n",
    "       'variant_ts3_mdev_corr', 'variant_ts3_prdev_corr']\n",
    "        self.underlying_simulated_parameters.drop(columns=columns_to_drop,inplace=True)\n",
    "        \n",
    "        self.underlying_prices=self.underlying_prices[(self.underlying_prices.date>=self.data_start_date)&(self.underlying_prices.date<=self.data_end_date)]\n",
    "        self.underlying_simulated_parameters=self.underlying_simulated_parameters[(self.underlying_simulated_parameters.date>=self.data_start_date)&(self.underlying_simulated_parameters.date<=self.data_end_date)]\n",
    "        self.vol_surface=self.vol_surface[(self.vol_surface.date>=self.data_start_date)&(self.vol_surface.date<=self.data_end_date)]\n",
    "        self.days_to_expiry=self.days_to_expiry[(self.days_to_expiry.date>=self.data_start_date)&(self.days_to_expiry.date<=self.prediction_date)]\n",
    "        \n",
    "        datelist1=self.days_to_expiry.date.unique()\n",
    "        datelist2=self.underlying_prices.date.unique()\n",
    "        datelist3=self.underlying_simulated_parameters.date.unique()\n",
    "        datelist4=self.vol_surface.date.unique()\n",
    "        dates_to_fill=[]\n",
    "        \n",
    "        for d in datelist3:\n",
    "            \n",
    "            if d not in datelist1 and d>=self.data_start_date and d <=self.data_end_date:\n",
    "                raise Exception(f'{d} date in Params db absent in Expiry db')\n",
    "            \n",
    "            if d not in datelist2 and d>=self.data_start_date and d <=self.data_end_date:\n",
    "                raise Exception(f'{d} date in Params db absent in OHLC db')\n",
    "            \n",
    "            if d not in datelist4 and d>=self.data_start_date and d <=self.data_end_date:\n",
    "                raise Exception(f'{d} date in Params db absent in Vol_Surface db')\n",
    "\n",
    "        for d in datelist1:\n",
    "                        \n",
    "            if d not in datelist2 and d>=self.data_start_date and d <=self.data_end_date:\n",
    "                raise Exception(f'{d} date in Expiry db absent in OHLC db')\n",
    "            \n",
    "            if d not in datelist4 and d>=self.data_start_date and d <=self.data_end_date:\n",
    "                raise Exception(f'{d} date in Expiry db absent in Vol_Surface db')\n",
    "\n",
    "            if d not in datelist3 and d>=self.data_start_date and d <=self.data_end_date:\n",
    "                dates_to_fill.append(d)\n",
    "        \n",
    "        self.vol_surface=self.vol_surface[self.vol_surface.date.isin(datelist1)]\n",
    "        self.underlying_prices=self.underlying_prices[self.underlying_prices.date.isin(datelist1)]\n",
    "        \n",
    "        if len(dates_to_fill)>0:\n",
    "            temp_df=[]\n",
    "            for i in range(1,self.underlying_simulated_parameters.strategy_variant.max()+1):\n",
    "                temp=self.underlying_simulated_parameters[self.underlying_simulated_parameters.strategy_variant==i]\n",
    "                temp.set_index('date',inplace=True)\n",
    "                \n",
    "                for d in dates_to_fill:\n",
    "                    temp.loc[d]=[np.nan]*len(temp.columns)\n",
    "\n",
    "                temp.sort_index(inplace=True)\n",
    "                temp.strategy_variant.ffill(inplace=True)\n",
    "                temp.strategy_variant.bfill(inplace=True)\n",
    "                temp.interpolate(method='linear', axis=0, inplace=True, limit_direction='both')\n",
    "                temp.reset_index(inplace=True)\n",
    "                temp_df.append(temp)\n",
    "\n",
    "            self.underlying_simulated_parameters=pd.concat(temp_df)\n",
    "            self.underlying_simulated_parameters.sort_values(['date','strategy_variant'],inplace=True)\n",
    "        \n",
    "        self.underlying_simulated_parameters.strategy_variant=self.underlying_simulated_parameters.strategy_variant.astype(int)\n",
    "        datelist1=self.days_to_expiry.date.unique()\n",
    "        datelist2=self.underlying_prices.date.unique()\n",
    "        datelist3=self.underlying_simulated_parameters.date.unique()\n",
    "        datelist4=self.vol_surface.date.unique()\n",
    "        \n",
    "        if len(datelist1)-1==len(datelist2)==len(datelist3)==len(datelist4):\n",
    "            print(\"Data Looks Good\")\n",
    "        else:\n",
    "            raise Exception(\"Dates of Days_To_Expiry, OHLC, Param, Vol_Surfaces are unequal\")\n",
    "            \n",
    "        self._Create_Features()\n",
    "        self._Cleanup()\n",
    "\n",
    "        \n",
    "    def _Create_Features(self):\n",
    "        \n",
    "        self.merged_parameters=pd.DataFrame(index=self.underlying_simulated_parameters.date.unique())\n",
    "        self.underlying_simulated_parameters.set_index('date',inplace=True)\n",
    "        \n",
    "        sim_vols=pd.merge(self.underlying_simulated_parameters[self.underlying_simulated_parameters.strategy_variant==1],\n",
    "                              self.underlying_simulated_parameters[self.underlying_simulated_parameters.strategy_variant==13],\n",
    "                              left_index=True,right_index=True)\n",
    "        sim_vols=sim_vols[['sim_vol_x','sim_vol_y']]\n",
    "        sim_vols.columns=['current_vol','next_vol']\n",
    "        \n",
    "        for i in range(1,self.underlying_simulated_parameters.strategy_variant.max()+1):\n",
    "            temp=self.underlying_simulated_parameters[self.underlying_simulated_parameters.strategy_variant==i].drop(columns=['strategy_variant','sim_vol'])\n",
    "            cols=temp.columns\n",
    "            temp.columns=[f'{i}_' + col for col in cols]\n",
    "            self.merged_parameters=pd.merge(self.merged_parameters,temp,left_index=True,right_index=True)\n",
    "            \n",
    "        self.params_cols=self.merged_parameters.columns\n",
    "        self.merged_parameters=pd.merge(self.merged_parameters,sim_vols,left_index=True,right_index=True)\n",
    "        \n",
    "        merged_surfaces=pd.DataFrame(index=self.vol_surface.date.unique())\n",
    "        for sym in [\"NIFTY\"]:#self.vol_surface.SYMBOL.unique():\n",
    "            temp=self.vol_surface[self.vol_surface.SYMBOL==sym].drop(columns=['SYMBOL']).set_index('date')\n",
    "            cols=temp.columns\n",
    "            temp.columns=[f'{sym}_' + col for col in cols]\n",
    "            merged_surfaces=pd.merge(merged_surfaces,temp,left_index=True,right_index=True)\n",
    "\n",
    "        self.vol_cols=temp.columns\n",
    "        \n",
    "        self.merged_parameters=pd.merge(self.merged_parameters,merged_surfaces,left_index=True,right_index=True)\n",
    "        \n",
    "        temp=pd.DataFrame(index=self.underlying_prices.date.unique())\n",
    "        temp[\"daily_range\"]=(self.underlying_prices.groupby('date').max())[\"high\"]/(self.underlying_prices.groupby('date').min())[\"low\"]-1\n",
    "        temp[\"daily_return\"]=self.underlying_prices.groupby('date').tail(1).set_index('date').close.pct_change()\n",
    "        self.underlying_prices[\"minute_range\"]=self.underlying_prices.high/self.underlying_prices.low-1\n",
    "        self.underlying_prices[\"minute_return\"]=self.underlying_prices.close/self.underlying_prices.open-1\n",
    "        temp=pd.merge(temp,self.underlying_prices.groupby('date').mean()[['minute_range','minute_return']],left_index=True,right_index=True)\n",
    "        temp_=self.underlying_prices.groupby('date').std()[['minute_range','minute_return']]\n",
    "        temp_.columns=['range_std','return_std']\n",
    "        temp=pd.merge(temp,temp_,left_index=True,right_index=True)\n",
    "        temp.minute_range=np.where(temp.range_std.isna(),np.nan,temp.minute_range)\n",
    "        temp.minute_return=np.where(temp.range_std.isna(),np.nan,temp.minute_return)\n",
    "        temp.interpolate(method='linear', axis=0, inplace=True, limit_direction='both')\n",
    "        \n",
    "        self.underlying_cols=temp.columns\n",
    "\n",
    "        self.merged_parameters=pd.merge(self.merged_parameters,temp,left_index=True,right_index=True)\n",
    "        self.underlying_prices.drop(columns=['minute_range','minute_return'],inplace=True)\n",
    "        \n",
    "        lag_5_curr_map, lag_10_curr_map, lag_5_next_map, lag_10_next_map = self._Get_Lagged_Maps()\n",
    "\n",
    "        temp_cols=[]\n",
    "        temp_dict={}\n",
    "\n",
    "        for col in self.params_cols:\n",
    "            mod_check=(int(col[:col.find('_')]))\n",
    "            if mod_check%24>12 or mod_check%24==0:\n",
    "                temp_cols.append(col)\n",
    "            else:\n",
    "                temp_dict[col]=str(mod_check+12)+col[col.find('_'):]\n",
    "\n",
    "        temp_cols+=['next_vol']\n",
    "        temp_dict['current_vol']='next_vol'        \n",
    "\n",
    "        merged_params_lagged_5=pd.DataFrame(columns=self.merged_parameters.columns)\n",
    "\n",
    "        for k,v in lag_5_curr_map.items():\n",
    "            try:\n",
    "                merged_params_lagged_5.loc[k]=self.merged_parameters.loc[v]\n",
    "            except:\n",
    "                merged_params_lagged_5.loc[k]=[np.nan]*len(merged_params_lagged_5.columns)\n",
    "\n",
    "        temp_df=pd.DataFrame(columns=self.merged_parameters.columns)\n",
    "        for k,v in lag_5_next_map.items():\n",
    "            try:\n",
    "                temp_df.loc[k]=self.merged_parameters.loc[v]\n",
    "            except:\n",
    "                temp_df.loc[k]=[np.nan]*len(temp_df.columns)\n",
    "\n",
    "        for col in temp_cols:\n",
    "            merged_params_lagged_5[col]=temp_df[col]\n",
    "\n",
    "        merged_params_lagged_10=pd.DataFrame(columns=self.merged_parameters.columns)\n",
    "\n",
    "        for k,v in lag_10_curr_map.items():\n",
    "            try:\n",
    "                merged_params_lagged_10.loc[k]=self.merged_parameters.loc[v]\n",
    "            except:\n",
    "                merged_params_lagged_10.loc[k]=[np.nan]*len(merged_params_lagged_10.columns)\n",
    "\n",
    "        temp_df=pd.DataFrame(columns=self.merged_parameters.columns)\n",
    "        for k,v in lag_10_next_map.items():\n",
    "            try:\n",
    "                temp_df.loc[k]=self.merged_parameters.loc[v]\n",
    "            except:\n",
    "                temp_df.loc[k]=[np.nan]*len(temp_df.columns)\n",
    "\n",
    "        for col in temp_cols:\n",
    "            merged_params_lagged_10[col]=temp_df[col]\n",
    "\n",
    "        self.merged_parameters.loc[self.prediction_date]=[np.nan]*len(self.merged_parameters.columns) \n",
    "\n",
    "        merged_params_lagged_1=self.merged_parameters.shift()\n",
    "        merged_params_lagged_1[\"expiry_switch\"]=pd.Series(np.where(self.days_to_expiry.current_week==1,1,0),index=self.days_to_expiry.date).shift().fillna(0)\n",
    "\n",
    "        sub1=merged_params_lagged_1[merged_params_lagged_1.expiry_switch==1]\n",
    "        sub2=merged_params_lagged_1[merged_params_lagged_1.expiry_switch==0]\n",
    "\n",
    "        for k,v in temp_dict.items():\n",
    "            sub1[k]=sub1[v]\n",
    "\n",
    "        merged_params_lagged_1=pd.concat([sub1,sub2]).sort_index().drop(columns=['expiry_switch'])\n",
    "\n",
    "        merged_params_lagged_2=self.merged_parameters.shift(2)\n",
    "        merged_params_lagged_3=self.merged_parameters.shift(3)\n",
    "        merged_params_lagged_4=self.merged_parameters.shift(4)\n",
    "\n",
    "        merged_params_diffed_0=self.merged_parameters-merged_params_lagged_1\n",
    "        merged_params_diffed_1=merged_params_diffed_0.copy()\n",
    "        merged_params_diffed_2=self.merged_parameters-merged_params_lagged_2\n",
    "        merged_params_diffed_3=self.merged_parameters-merged_params_lagged_3\n",
    "        merged_params_diffed_4=self.merged_parameters-merged_params_lagged_4\n",
    "        merged_params_diffed_5=self.merged_parameters-merged_params_lagged_5\n",
    "        merged_params_diffed_10=self.merged_parameters-merged_params_lagged_10\n",
    "\n",
    "        merged_params_diffed_1.columns=[col+\"_diffed_1\" for col in merged_params_diffed_1.columns]\n",
    "        merged_params_diffed_2.columns=[col+\"_diffed_2\" for col in merged_params_diffed_2.columns]\n",
    "        merged_params_diffed_3.columns=[col+\"_diffed_3\" for col in merged_params_diffed_3.columns]\n",
    "        merged_params_diffed_4.columns=[col+\"_diffed_4\" for col in merged_params_diffed_4.columns]\n",
    "        merged_params_diffed_5.columns=[col+\"_diffed_5\" for col in merged_params_diffed_5.columns]\n",
    "        merged_params_diffed_10.columns=[col+\"_diffed_10\" for col in merged_params_diffed_10.columns]\n",
    "\n",
    "        self.diffed_parameters=pd.DataFrame(index=self.merged_parameters.index)\n",
    "        self.diffed_parameters=pd.merge(self.diffed_parameters,merged_params_diffed_1,left_index=True,right_index=True)\n",
    "        self.diffed_parameters=pd.merge(self.diffed_parameters,merged_params_diffed_2,left_index=True,right_index=True)\n",
    "        self.diffed_parameters=pd.merge(self.diffed_parameters,merged_params_diffed_3,left_index=True,right_index=True)\n",
    "        self.diffed_parameters=pd.merge(self.diffed_parameters,merged_params_diffed_4,left_index=True,right_index=True)\n",
    "        self.diffed_parameters=pd.merge(self.diffed_parameters,merged_params_diffed_5,left_index=True,right_index=True)\n",
    "        self.diffed_parameters=pd.merge(self.diffed_parameters,merged_params_diffed_10,left_index=True,right_index=True)\n",
    "\n",
    "        if(len(self.diffed_parameters)-len(self.diffed_parameters.dropna())==11):\n",
    "            self.diffed_parameters=pd.merge(merged_params_diffed_0.shift(-1),self.diffed_parameters,left_index=True,right_index=True)\n",
    "            self.diffed_parameters=self.diffed_parameters.shift()[11:]\n",
    "            print(\"Diffed Parameters Looks Good\")\n",
    "        else:\n",
    "            raise Exception(\"More rows are missing than required for diffed Parameters\")\n",
    "    \n",
    "        merged_params_lagged_1.columns=[col+\"_lagged_1\" for col in merged_params_lagged_1.columns]\n",
    "        merged_params_lagged_2.columns=[col+\"_lagged_2\" for col in merged_params_lagged_2.columns]\n",
    "        merged_params_lagged_3.columns=[col+\"_lagged_3\" for col in merged_params_lagged_3.columns]\n",
    "        merged_params_lagged_4.columns=[col+\"_lagged_4\" for col in merged_params_lagged_4.columns]\n",
    "        merged_params_lagged_5.columns=[col+\"_lagged_5\" for col in merged_params_lagged_5.columns]\n",
    "        merged_params_lagged_10.columns=[col+\"_lagged_10\" for col in merged_params_lagged_10.columns]\n",
    "\n",
    "        self.lagged_parameters=pd.DataFrame(index=self.merged_parameters.index)\n",
    "        self.lagged_parameters=pd.merge(self.lagged_parameters,self.merged_parameters,left_index=True,right_index=True)\n",
    "        self.lagged_parameters=pd.merge(self.lagged_parameters,merged_params_lagged_1,left_index=True,right_index=True)\n",
    "        self.lagged_parameters=pd.merge(self.lagged_parameters,merged_params_lagged_2,left_index=True,right_index=True)\n",
    "        self.lagged_parameters=pd.merge(self.lagged_parameters,merged_params_lagged_3,left_index=True,right_index=True)\n",
    "        self.lagged_parameters=pd.merge(self.lagged_parameters,merged_params_lagged_4,left_index=True,right_index=True)\n",
    "        self.lagged_parameters=pd.merge(self.lagged_parameters,merged_params_lagged_5,left_index=True,right_index=True)\n",
    "        self.lagged_parameters=pd.merge(self.lagged_parameters,merged_params_lagged_10,left_index=True,right_index=True)\n",
    "\n",
    "        if(len(self.lagged_parameters)-len(self.lagged_parameters.dropna())==11):\n",
    "            self.lagged_parameters=self.lagged_parameters[10:]\n",
    "            print(\"Lagged Parameters Looks Good\")\n",
    "        else:\n",
    "            raise Exception(\"More rows are missing than required for Lagged Parameters\")\n",
    "    \n",
    "    def _Get_Lagged_Maps(self):\n",
    "        \n",
    "        index_list=self.days_to_expiry.date.tolist()\n",
    "        current_week_list=self.days_to_expiry.set_index('date').current_week\n",
    "        next_week_list=self.days_to_expiry.set_index('date').next_week        \n",
    "        \n",
    "        value_count=current_week_list.groupby(current_week_list).count()\n",
    "        current_week_values_to_fix=value_count[value_count<sum(value_count)/100].index\n",
    "        value_count=next_week_list.groupby(next_week_list).count()\n",
    "        next_week_values_to_fix=value_count[value_count<sum(value_count)/100].index\n",
    "        current_week_list=pd.Series(np.where(current_week_list.isin(current_week_values_to_fix),np.where(current_week_list>5,current_week_list-1,current_week_list+1),current_week_list),index=index_list)\n",
    "        next_week_list=pd.Series(np.where(next_week_list.isin(next_week_values_to_fix),np.where(next_week_list>5,next_week_list-1,next_week_list+1),next_week_list),index=index_list)\n",
    "\n",
    "        self.current_week_days_to_expiry_map=dict(zip(index_list, current_week_list))\n",
    "        self.next_week_days_to_expiry_map=dict(zip(index_list, next_week_list))\n",
    "        \n",
    "        lag_5_curr_map={}\n",
    "        for i,d in enumerate(index_list):\n",
    "\n",
    "            d_to_expiry=current_week_list[i]\n",
    "            flag=False\n",
    "\n",
    "            for j,d_ in enumerate(reversed(index_list[:i])):\n",
    "\n",
    "                if j>40:\n",
    "\n",
    "                    lag_5_curr_map[d]=index_list[i-5]\n",
    "                    flag=True\n",
    "                    break\n",
    "\n",
    "                if current_week_list[i-j-1]==d_to_expiry:\n",
    "\n",
    "                    lag_5_curr_map[d]=d_\n",
    "                    flag=True\n",
    "                    break\n",
    "\n",
    "            if not flag:\n",
    "\n",
    "                if i<10:\n",
    "                    lag_5_curr_map[d]=pd.NA\n",
    "\n",
    "                else:\n",
    "                    lag_5_curr_map[d]=index_list[i-5]\n",
    "\n",
    "\n",
    "        lag_10_curr_map={}\n",
    "        for i,d in enumerate(index_list):\n",
    "\n",
    "            d_to_expiry=current_week_list[i]\n",
    "            flag=False\n",
    "            first=False\n",
    "            for j,d_ in enumerate(reversed(index_list[:i])):\n",
    "\n",
    "                if j>40:\n",
    "\n",
    "                    lag_10_curr_map[d]=index_list[i-10]\n",
    "                    flag=True\n",
    "                    break\n",
    "\n",
    "                if current_week_list[i-j-1]==d_to_expiry:\n",
    "\n",
    "                    if first:\n",
    "                        lag_10_curr_map[d]=d_\n",
    "                        flag=True\n",
    "                        break\n",
    "                    else:\n",
    "                        first=True\n",
    "\n",
    "            if not flag:\n",
    "\n",
    "                if i<10:\n",
    "                    lag_10_curr_map[d]=pd.NA\n",
    "\n",
    "                else:\n",
    "                    lag_10_curr_map[d]=index_list[i-10]\n",
    "\n",
    "\n",
    "        lag_5_next_map={}\n",
    "        for i,d in enumerate(index_list):\n",
    "\n",
    "            d_to_expiry=next_week_list[i]\n",
    "            flag=False\n",
    "\n",
    "            for j,d_ in enumerate(reversed(index_list[:i])):\n",
    "\n",
    "                if j>80:\n",
    "\n",
    "                    lag_5_next_map[d]=index_list[i-5]\n",
    "                    flag=True\n",
    "                    break\n",
    "\n",
    "                if next_week_list[i-j-1]==d_to_expiry:\n",
    "\n",
    "                    lag_5_next_map[d]=d_\n",
    "                    flag=True\n",
    "                    break\n",
    "\n",
    "            if not flag:\n",
    "\n",
    "                if i<10:\n",
    "                    lag_5_next_map[d]=pd.NA\n",
    "\n",
    "                else:\n",
    "                    lag_5_next_map[d]=index_list[i-5]\n",
    "\n",
    "\n",
    "        lag_10_next_map={}\n",
    "        for i,d in enumerate(index_list):\n",
    "\n",
    "            d_to_expiry=next_week_list[i]\n",
    "            flag=False\n",
    "            first=False\n",
    "            for j,d_ in enumerate(reversed(index_list[:i])):\n",
    "\n",
    "                if j>80:\n",
    "\n",
    "                    lag_10_next_map[d]=index_list[i-10]\n",
    "                    flag=True\n",
    "                    break\n",
    "\n",
    "                if next_week_list[i-j-1]==d_to_expiry:\n",
    "\n",
    "                    if first:\n",
    "                        lag_10_next_map[d]=d_\n",
    "                        flag=True\n",
    "                        break\n",
    "                    else:\n",
    "                        first=True\n",
    "\n",
    "            if not flag:\n",
    "\n",
    "                if i<10:\n",
    "                    lag_10_next_map[d]=pd.NA\n",
    "\n",
    "                else:\n",
    "                    lag_10_next_map[d]=index_list[i-10]\n",
    "        \n",
    "        return lag_5_curr_map, lag_10_curr_map, lag_5_next_map, lag_10_next_map\n",
    "\n",
    "    def _Cleanup(self):\n",
    "        \n",
    "        self.diffed_dependent=self.diffed_parameters[self.params_cols]\n",
    "        self.lagged_dependent=self.lagged_parameters[self.params_cols]\n",
    "\n",
    "        temp_cols=[]\n",
    "        for col in self.diffed_parameters.columns:\n",
    "            if col.find('diffed')==-1:\n",
    "                temp_cols.append(col)\n",
    "            else:\n",
    "                break\n",
    "\n",
    "        self.diffed_independent_real=self.diffed_parameters.loc[:, ~self.diffed_parameters.columns.isin(temp_cols)]\n",
    "        self.lagged_independent_real=self.lagged_parameters.loc[:, ~self.lagged_parameters.columns.isin(temp_cols)]\n",
    "\n",
    "        self.lagged_independent_categorical=pd.DataFrame(index=self.lagged_independent_real.index)\n",
    "        self.diffed_independent_categorical=pd.DataFrame(index=self.diffed_independent_real.index)\n",
    "\n",
    "        self.lagged_independent_categorical[\"current_week\"]=self.lagged_independent_categorical.index.map(self.current_week_days_to_expiry_map)\n",
    "        self.lagged_independent_categorical[\"next_week\"]=self.lagged_independent_categorical.index.map(self.next_week_days_to_expiry_map)\n",
    "        self.diffed_independent_categorical[\"current_week\"]=self.diffed_independent_categorical.index.map(self.current_week_days_to_expiry_map)\n",
    "        self.diffed_independent_categorical[\"next_week\"]=self.diffed_independent_categorical.index.map(self.next_week_days_to_expiry_map)\n",
    "\n",
    "        self.lagged_independent_categorical[\"NIFTY_Weekly_Flag\"]=np.where(self.lagged_independent_categorical.index>=\"2019-02-11\",1,0)\n",
    "        self.diffed_independent_categorical[\"NIFTY_Weekly_Flag\"]=np.where(self.diffed_independent_categorical.index>=\"2019-02-11\",1,0)\n",
    "        \n",
    "        self.diffed_independent_categorical=pd.get_dummies(self.diffed_independent_categorical,\n",
    "                                                           columns=self.diffed_independent_categorical.columns[:-1])\n",
    "        self.lagged_independent_categorical=pd.get_dummies(self.lagged_independent_categorical,\n",
    "                                                           columns=self.lagged_independent_categorical.columns[:-1])        \n",
    "\n",
    "        \n",
    "        del self.diffed_parameters\n",
    "        del self.lagged_parameters\n",
    "        del self.current_week_days_to_expiry_map\n",
    "        del self.next_week_days_to_expiry_map\n",
    "        del self.params_cols\n",
    "        del self.underlying_cols\n",
    "        del self.underlying_prices\n",
    "        del self.underlying_simulated_parameters\n",
    "        del self.vol_cols\n",
    "        del self.vol_surface"
   ]
  },
  {
   "cell_type": "code",
   "execution_count": 3,
   "id": "da2b7e4f",
   "metadata": {},
   "outputs": [],
   "source": [
    "class Test:\n",
    "    \n",
    "    def __init__(self):\n",
    "        self.P=Prediction_Engine('2017-01-02','2023-04-13','2023-04-17','NIFTY')\n",
    "        self.data_end_date=self.P.data_end_date\n",
    "        self.data_start_date=self.P.data_start_date\n",
    "        self.days_to_expiry=self.P.days_to_expiry\n",
    "        self.diffed_dependent=self.P.diffed_dependent\n",
    "        self.diffed_independent_categorical=self.P.diffed_independent_categorical\n",
    "        self.diffed_independent_real=self.P.diffed_independent_real\n",
    "        self.lagged_dependent=self.P.lagged_dependent\n",
    "        self.lagged_independent_categorical=self.P.lagged_independent_categorical\n",
    "        self.lagged_independent_real=self.P.lagged_independent_real\n",
    "        self.merged_parameters=self.P.merged_parameters\n",
    "        self.prediction_date=self.P.prediction_date\n",
    "        self.underlying=self.P.underlying        "
   ]
  },
  {
   "cell_type": "code",
   "execution_count": 4,
   "id": "454b5ae7",
   "metadata": {},
   "outputs": [
    {
     "name": "stdout",
     "output_type": "stream",
     "text": [
      "Data Looks Good\n",
      "Diffed Parameters Looks Good\n",
      "Lagged Parameters Looks Good\n"
     ]
    }
   ],
   "source": [
    "self=Test()"
   ]
  },
  {
   "cell_type": "code",
   "execution_count": 14,
   "id": "196e23ce",
   "metadata": {},
   "outputs": [],
   "source": [
    "import pmdarima as pm"
   ]
  },
  {
   "cell_type": "code",
   "execution_count": 521,
   "id": "8495c96b",
   "metadata": {},
   "outputs": [
    {
     "data": {
      "text/plain": [
       "<Axes: >"
      ]
     },
     "execution_count": 521,
     "metadata": {},
     "output_type": "execute_result"
    },
    {
     "data": {
      "image/png": "[encoded data removed]",
      "text/plain": [
       "<Figure size 640x480 with 1 Axes>"
      ]
     },
     "metadata": {},
     "output_type": "display_data"
    }
   ],
   "source": [
    "self.diffed_dependent['1_pos_param'].rolling(1000).apply(lambda x: x.autocorr(), raw=False).plot()"
   ]
  },
  {
   "cell_type": "code",
   "execution_count": 1010,
   "id": "827f24b9",
   "metadata": {},
   "outputs": [],
   "source": [
    "m=451\n",
    "n=200\n",
    "res = pm.auto_arima(self.diffed_dependent['34_mov_param'][m:m+n])"
   ]
  },
  {
   "cell_type": "code",
   "execution_count": 1011,
   "id": "6d566dc7",
   "metadata": {},
   "outputs": [
    {
     "data": {
      "text/plain": [
       "0.01580473121445912"
      ]
     },
     "execution_count": 1011,
     "metadata": {},
     "output_type": "execute_result"
    }
   ],
   "source": [
    "np.mean(np.abs(res.resid()))"
   ]
  },
  {
   "cell_type": "code",
   "execution_count": 1012,
   "id": "0b6fe405",
   "metadata": {},
   "outputs": [
    {
     "data": {
      "text/plain": [
       "0.015899999999999997"
      ]
     },
     "execution_count": 1012,
     "metadata": {},
     "output_type": "execute_result"
    }
   ],
   "source": [
    "np.mean(np.abs(self.diffed_dependent['34_mov_param'][m:m+n]))"
   ]
  },
  {
   "cell_type": "code",
   "execution_count": 1013,
   "id": "8de38f6d",
   "metadata": {},
   "outputs": [
    {
     "name": "stderr",
     "output_type": "stream",
     "text": [
      "/Users/praneetshaw/anaconda3/lib/python3.10/site-packages/statsmodels/tsa/base/tsa_model.py:834: ValueWarning: No supported index is available. Prediction results will be given with an integer index beginning at `start`.\n",
      "  return get_prediction_index(\n"
     ]
    },
    {
     "data": {
      "text/plain": [
       "200    0.006999\n",
       "dtype: float64"
      ]
     },
     "execution_count": 1013,
     "metadata": {},
     "output_type": "execute_result"
    }
   ],
   "source": [
    "res.predict(1)"
   ]
  },
  {
   "cell_type": "code",
   "execution_count": 1014,
   "id": "dbc9df1e",
   "metadata": {},
   "outputs": [
    {
     "data": {
      "text/plain": [
       "-0.009999999999999953"
      ]
     },
     "execution_count": 1014,
     "metadata": {},
     "output_type": "execute_result"
    }
   ],
   "source": [
    "self.diffed_dependent['34_mov_param'][m+n]"
   ]
  },
  {
   "cell_type": "code",
   "execution_count": 5,
   "id": "52ed555e",
   "metadata": {},
   "outputs": [],
   "source": [
    "temp_cols=[]\n",
    "for col in self.diffed_independent_real.columns:\n",
    "#    if col.find('pos_param')==-1 and col.find('mov_param')==-1 and col.find('prof_param')==-1 and col.endswith('diffed_1'):\n",
    "    if col.endswith('diffed_1') or col.endswith('diffed_5'):\n",
    "\n",
    "        temp_cols.append(col)\n",
    "\n",
    "self.diffed_independent_real=self.diffed_independent_real.loc[:, self.diffed_independent_real.columns.isin(temp_cols)]\n",
    "\n",
    "temp_cols=[]\n",
    "for col in self.lagged_independent_real.columns:\n",
    "#    if col.find('pos_param')==-1 and col.find('mov_param')==-1 and col.find('prof_param')==-1 and col.endswith('lagged_1'):\n",
    "    if col.endswith('lagged_1') or col.endswith('lagged_5'):\n",
    "\n",
    "        temp_cols.append(col)\n",
    "\n",
    "self.lagged_independent_real=self.lagged_independent_real.loc[:, self.lagged_independent_real.columns.isin(temp_cols)]"
   ]
  },
  {
   "cell_type": "code",
   "execution_count": 5,
   "id": "21a74450",
   "metadata": {},
   "outputs": [],
   "source": [
    "import pmdarima as pm"
   ]
  },
  {
   "cell_type": "code",
   "execution_count": 292,
   "id": "1e0d2090",
   "metadata": {},
   "outputs": [],
   "source": [
    "col='6_prof_param'\n",
    "res=pm.auto_arima(self.diffed_dependent[col][-120:].dropna())"
   ]
  },
  {
   "cell_type": "code",
   "execution_count": 293,
   "id": "1a86f5e9",
   "metadata": {},
   "outputs": [
    {
     "data": {
      "text/html": [
       "<style>#sk-container-id-47 {color: black;background-color: white;}#sk-container-id-47 pre{padding: 0;}#sk-container-id-47 div.sk-toggleable {background-color: white;}#sk-container-id-47 label.sk-toggleable__label {cursor: pointer;display: block;width: 100%;margin-bottom: 0;padding: 0.3em;box-sizing: border-box;text-align: center;}#sk-container-id-47 label.sk-toggleable__label-arrow:before {content: \"▸\";float: left;margin-right: 0.25em;color: #696969;}#sk-container-id-47 label.sk-toggleable__label-arrow:hover:before {color: black;}#sk-container-id-47 div.sk-estimator:hover label.sk-toggleable__label-arrow:before {color: black;}#sk-container-id-47 div.sk-toggleable__content {max-height: 0;max-width: 0;overflow: hidden;text-align: left;background-color: #f0f8ff;}#sk-container-id-47 div.sk-toggleable__content pre {margin: 0.2em;color: black;border-radius: 0.25em;background-color: #f0f8ff;}#sk-container-id-47 input.sk-toggleable__control:checked~div.sk-toggleable__content {max-height: 200px;max-width: 100%;overflow: auto;}#sk-container-id-47 input.sk-toggleable__control:checked~label.sk-toggleable__label-arrow:before {content: \"▾\";}#sk-container-id-47 div.sk-estimator input.sk-toggleable__control:checked~label.sk-toggleable__label {background-color: #d4ebff;}#sk-container-id-47 div.sk-label input.sk-toggleable__control:checked~label.sk-toggleable__label {background-color: #d4ebff;}#sk-container-id-47 input.sk-hidden--visually {border: 0;clip: rect(1px 1px 1px 1px);clip: rect(1px, 1px, 1px, 1px);height: 1px;margin: -1px;overflow: hidden;padding: 0;position: absolute;width: 1px;}#sk-container-id-47 div.sk-estimator {font-family: monospace;background-color: #f0f8ff;border: 1px dotted black;border-radius: 0.25em;box-sizing: border-box;margin-bottom: 0.5em;}#sk-container-id-47 div.sk-estimator:hover {background-color: #d4ebff;}#sk-container-id-47 div.sk-parallel-item::after {content: \"\";width: 100%;border-bottom: 1px solid gray;flex-grow: 1;}#sk-container-id-47 div.sk-label:hover label.sk-toggleable__label {background-color: #d4ebff;}#sk-container-id-47 div.sk-serial::before {content: \"\";position: absolute;border-left: 1px solid gray;box-sizing: border-box;top: 0;bottom: 0;left: 50%;z-index: 0;}#sk-container-id-47 div.sk-serial {display: flex;flex-direction: column;align-items: center;background-color: white;padding-right: 0.2em;padding-left: 0.2em;position: relative;}#sk-container-id-47 div.sk-item {position: relative;z-index: 1;}#sk-container-id-47 div.sk-parallel {display: flex;align-items: stretch;justify-content: center;background-color: white;position: relative;}#sk-container-id-47 div.sk-item::before, #sk-container-id-47 div.sk-parallel-item::before {content: \"\";position: absolute;border-left: 1px solid gray;box-sizing: border-box;top: 0;bottom: 0;left: 50%;z-index: -1;}#sk-container-id-47 div.sk-parallel-item {display: flex;flex-direction: column;z-index: 1;position: relative;background-color: white;}#sk-container-id-47 div.sk-parallel-item:first-child::after {align-self: flex-end;width: 50%;}#sk-container-id-47 div.sk-parallel-item:last-child::after {align-self: flex-start;width: 50%;}#sk-container-id-47 div.sk-parallel-item:only-child::after {width: 0;}#sk-container-id-47 div.sk-dashed-wrapped {border: 1px dashed gray;margin: 0 0.4em 0.5em 0.4em;box-sizing: border-box;padding-bottom: 0.4em;background-color: white;}#sk-container-id-47 div.sk-label label {font-family: monospace;font-weight: bold;display: inline-block;line-height: 1.2em;}#sk-container-id-47 div.sk-label-container {text-align: center;}#sk-container-id-47 div.sk-container {/* jupyter's `normalize.less` sets `[hidden] { display: none; }` but bootstrap.min.css set `[hidden] { display: none !important; }` so we also need the `!important` here to be able to override the default hidden behavior on the sphinx rendered scikit-learn.org. See: https://github.com/scikit-learn/scikit-learn/issues/21755 */display: inline-block !important;position: relative;}#sk-container-id-47 div.sk-text-repr-fallback {display: none;}</style><div id=\"sk-container-id-47\" class=\"sk-top-container\"><div class=\"sk-text-repr-fallback\"><pre> ARIMA(0,0,1)(0,0,0)[0]          </pre><b>In a Jupyter environment, please rerun this cell to show the HTML representation or trust the notebook. <br />On GitHub, the HTML representation is unable to render, please try loading this page with nbviewer.org.</b></div><div class=\"sk-container\" hidden><div class=\"sk-item\"><div class=\"sk-estimator sk-toggleable\"><input class=\"sk-toggleable__control sk-hidden--visually\" id=\"sk-estimator-id-47\" type=\"checkbox\" checked><label for=\"sk-estimator-id-47\" class=\"sk-toggleable__label sk-toggleable__label-arrow\">ARIMA</label><div class=\"sk-toggleable__content\"><pre> ARIMA(0,0,1)(0,0,0)[0]          </pre></div></div></div></div></div>"
      ],
      "text/plain": [
       "ARIMA(order=(0, 0, 1), scoring_args={}, suppress_warnings=True,\n",
       "      with_intercept=False)"
      ]
     },
     "execution_count": 293,
     "metadata": {},
     "output_type": "execute_result"
    }
   ],
   "source": [
    "res"
   ]
  },
  {
   "cell_type": "code",
   "execution_count": 294,
   "id": "c64a216d",
   "metadata": {},
   "outputs": [
    {
     "data": {
      "text/plain": [
       "<matplotlib.lines.Line2D at 0x142782c20>"
      ]
     },
     "execution_count": 294,
     "metadata": {},
     "output_type": "execute_result"
    },
    {
     "data": {
      "image/png": "[encoded data removed]",
      "text/plain": [
       "<Figure size 640x480 with 1 Axes>"
      ]
     },
     "metadata": {},
     "output_type": "display_data"
    }
   ],
   "source": [
    "plt.plot(self.diffed_dependent[col].dropna().tolist()[-20:])\n",
    "plt.plot(res.fittedvalues()[-20:])\n",
    "plt.axhline(y=self.diffed_dependent[col].dropna().mean())"
   ]
  },
  {
   "cell_type": "code",
   "execution_count": 295,
   "id": "7e35210e",
   "metadata": {},
   "outputs": [],
   "source": [
    "from sklearn.metrics import r2_score\n",
    "from sklearn.metrics import mean_absolute_error"
   ]
  },
  {
   "cell_type": "code",
   "execution_count": 296,
   "id": "4dd5876f",
   "metadata": {},
   "outputs": [
    {
     "data": {
      "text/plain": [
       "0.012958440526016468"
      ]
     },
     "execution_count": 296,
     "metadata": {},
     "output_type": "execute_result"
    }
   ],
   "source": [
    "r2_score(self.diffed_dependent[col].dropna().tolist()[-100:],res.fittedvalues()[-100:])"
   ]
  },
  {
   "cell_type": "code",
   "execution_count": 297,
   "id": "1177e12b",
   "metadata": {},
   "outputs": [
    {
     "data": {
      "text/plain": [
       "-0.0074058151869969"
      ]
     },
     "execution_count": 297,
     "metadata": {},
     "output_type": "execute_result"
    }
   ],
   "source": [
    "r2_score(self.diffed_dependent[col].dropna().tolist()[-100:],[self.diffed_dependent[col].dropna().mean()]*100)"
   ]
  },
  {
   "cell_type": "code",
   "execution_count": 298,
   "id": "fb6abc6c",
   "metadata": {},
   "outputs": [
    {
     "data": {
      "text/plain": [
       "0.01271204931797077"
      ]
     },
     "execution_count": 298,
     "metadata": {},
     "output_type": "execute_result"
    }
   ],
   "source": [
    "np.abs(res.resid()[-100:]).mean()"
   ]
  },
  {
   "cell_type": "code",
   "execution_count": 299,
   "id": "a30afe82",
   "metadata": {
    "scrolled": true
   },
   "outputs": [
    {
     "data": {
      "text/plain": [
       "0.012525252525252523"
      ]
     },
     "execution_count": 299,
     "metadata": {},
     "output_type": "execute_result"
    }
   ],
   "source": [
    "np.abs(self.diffed_dependent[col][-100:]).mean()"
   ]
  },
  {
   "cell_type": "code",
   "execution_count": 253,
   "id": "67328353",
   "metadata": {},
   "outputs": [
    {
     "data": {
      "text/plain": [
       "-5.050505050505055e-05"
      ]
     },
     "execution_count": 253,
     "metadata": {},
     "output_type": "execute_result"
    }
   ],
   "source": [
    "self.diffed_dependent[col][-100:].mean()"
   ]
  },
  {
   "cell_type": "code",
   "execution_count": 8,
   "id": "a8b9c005",
   "metadata": {},
   "outputs": [],
   "source": [
    "from gluonts.dataset.common import ListDataset\n",
    "from gluonts.dataset.field_names import FieldName"
   ]
  },
  {
   "cell_type": "code",
   "execution_count": 9,
   "id": "260f8922",
   "metadata": {},
   "outputs": [],
   "source": [
    "y_train=self.diffed_dependent[:-100].values\n",
    "y_test=self.diffed_dependent[:-1].values\n",
    "X_train=self.diffed_independent_real[:-100].values\n",
    "X_test=self.diffed_independent_real[:-1].values\n",
    "categorical_test=self.diffed_independent_categorical[:-100].values\n",
    "categorical_train=self.diffed_independent_categorical[:-1].values"
   ]
  },
  {
   "cell_type": "code",
   "execution_count": 10,
   "id": "0bdfe8ad",
   "metadata": {},
   "outputs": [],
   "source": [
    "y_train=self.lagged_dependent[:-100].values\n",
    "y_test=self.lagged_dependent[:-1].values\n",
    "X_train=self.lagged_independent_real[:-100].values\n",
    "X_test=self.lagged_independent_real[:-1].values\n",
    "categorical_test=self.lagged_independent_categorical[:-100].values\n",
    "categorical_train=self.lagged_independent_categorical[:-1].values"
   ]
  },
  {
   "cell_type": "code",
   "execution_count": 11,
   "id": "a8face44",
   "metadata": {},
   "outputs": [],
   "source": [
    "from sklearn.preprocessing import StandardScaler\n",
    "sc_X = StandardScaler()\n",
    "sc_y = StandardScaler()\n",
    "X_train = sc_X.fit_transform(X_train)\n",
    "y_train = sc_y.fit_transform(y_train)\n",
    "X_test=sc_X.transform(X_test)\n",
    "y_test=sc_y.transform(y_test)"
   ]
  },
  {
   "cell_type": "code",
   "execution_count": 12,
   "id": "1ade68ea",
   "metadata": {},
   "outputs": [],
   "source": [
    "train_ds = ListDataset(\n",
    "    [\n",
    "        {\n",
    "            FieldName.TARGET: target,\n",
    "            FieldName.START: pd.Period(self.data_start_date,freq='D'),\n",
    "            FieldName.FEAT_DYNAMIC_REAL: X_train.T,\n",
    "            #FieldName.FEAT_DYNAMIC_CAT: categorical_train.T\n",
    "        }\n",
    "        for target in y_train.T\n",
    "    ],\n",
    "    freq=\"D\",\n",
    ")\n"
   ]
  },
  {
   "cell_type": "code",
   "execution_count": 13,
   "id": "53c27e5f",
   "metadata": {},
   "outputs": [],
   "source": [
    "test_ds = ListDataset(\n",
    "    [\n",
    "        {\n",
    "            FieldName.TARGET: target,\n",
    "            FieldName.START: pd.Period(self.data_start_date,freq='D'),\n",
    "            FieldName.FEAT_DYNAMIC_REAL: X_test.T,\n",
    "            #FieldName.FEAT_DYNAMIC_CAT: categorical_test.T\n",
    "        }\n",
    "        for target in y_test.T\n",
    "    ],\n",
    "    freq=\"D\",\n",
    ")\n"
   ]
  },
  {
   "cell_type": "code",
   "execution_count": 25,
   "id": "69eb415a",
   "metadata": {},
   "outputs": [],
   "source": [
    "from statsmodels.graphics.tsaplots import plot_acf\n",
    "from statsmodels.graphics.tsaplots import plot_pacf"
   ]
  },
  {
   "cell_type": "code",
   "execution_count": 30,
   "id": "4b31c3cb",
   "metadata": {},
   "outputs": [
    {
     "data": {
      "image/png": "[encoded data removed]",
      "text/plain": [
       "<Figure size 640x480 with 1 Axes>"
      ]
     },
     "execution_count": 30,
     "metadata": {},
     "output_type": "execute_result"
    },
    {
     "data": {
      "image/png": "[encoded data removed]",
      "text/plain": [
       "<Figure size 640x480 with 1 Axes>"
      ]
     },
     "metadata": {},
     "output_type": "display_data"
    }
   ],
   "source": [
    "self.diffed_dependent['123_pos_param'].values.ravel())"
   ]
  },
  {
   "cell_type": "code",
   "execution_count": 18,
   "id": "21df3caa",
   "metadata": {},
   "outputs": [
    {
     "ename": "OSError",
     "evalue": "dlopen(/Users/praneetshaw/anaconda3/lib/python3.10/site-packages/mxnet/libmxnet.so, 0x0006): tried: '/Users/praneetshaw/anaconda3/lib/python3.10/site-packages/mxnet/libmxnet.so' (not a mach-o file), '/System/Volumes/Preboot/Cryptexes/OS/Users/praneetshaw/anaconda3/lib/python3.10/site-packages/mxnet/libmxnet.so' (no such file), '/Users/praneetshaw/anaconda3/lib/python3.10/site-packages/mxnet/libmxnet.so' (not a mach-o file)",
     "output_type": "error",
     "traceback": [
      "\u001b[0;31m---------------------------------------------------------------------------\u001b[0m",
      "\u001b[0;31mOSError\u001b[0m                                   Traceback (most recent call last)",
      "Cell \u001b[0;32mIn[18], line 1\u001b[0m\n\u001b[0;32m----> 1\u001b[0m \u001b[38;5;28;01mfrom\u001b[39;00m \u001b[38;5;21;01mgluonts\u001b[39;00m\u001b[38;5;21;01m.\u001b[39;00m\u001b[38;5;21;01mmx\u001b[39;00m \u001b[38;5;28;01mimport\u001b[39;00m DeepStateEstimator, Trainer\n",
      "File \u001b[0;32m~/anaconda3/lib/python3.10/site-packages/gluonts/mx/__init__.py:21\u001b[0m\n\u001b[1;32m     18\u001b[0m \u001b[38;5;28;01mimport\u001b[39;00m \u001b[38;5;21;01mtyping\u001b[39;00m\n\u001b[1;32m     19\u001b[0m \u001b[38;5;28;01mfrom\u001b[39;00m \u001b[38;5;21;01mpkgutil\u001b[39;00m \u001b[38;5;28;01mimport\u001b[39;00m extend_path\n\u001b[0;32m---> 21\u001b[0m \u001b[38;5;28;01mimport\u001b[39;00m \u001b[38;5;21;01mmxnet\u001b[39;00m \u001b[38;5;28;01mas\u001b[39;00m \u001b[38;5;21;01mmx\u001b[39;00m\n\u001b[1;32m     23\u001b[0m __path__ \u001b[38;5;241m=\u001b[39m extend_path(__path__, \u001b[38;5;18m__name__\u001b[39m)  \u001b[38;5;66;03m# type: ignore\u001b[39;00m\n\u001b[1;32m     25\u001b[0m \u001b[38;5;66;03m# Tensor type for HybridBlocks in Gluon\u001b[39;00m\n",
      "File \u001b[0;32m~/anaconda3/lib/python3.10/site-packages/mxnet/__init__.py:24\u001b[0m\n\u001b[1;32m     21\u001b[0m \u001b[38;5;124;03m\"\"\"MXNet: a concise, fast and flexible framework for deep learning.\"\"\"\u001b[39;00m\n\u001b[1;32m     22\u001b[0m \u001b[38;5;28;01mfrom\u001b[39;00m \u001b[38;5;21;01m__future__\u001b[39;00m \u001b[38;5;28;01mimport\u001b[39;00m absolute_import\n\u001b[0;32m---> 24\u001b[0m \u001b[38;5;28;01mfrom\u001b[39;00m \u001b[38;5;21;01m.\u001b[39;00m\u001b[38;5;21;01mcontext\u001b[39;00m \u001b[38;5;28;01mimport\u001b[39;00m Context, current_context, cpu, gpu, cpu_pinned\n\u001b[1;32m     25\u001b[0m \u001b[38;5;28;01mfrom\u001b[39;00m \u001b[38;5;21;01m.\u001b[39;00m \u001b[38;5;28;01mimport\u001b[39;00m engine\n\u001b[1;32m     26\u001b[0m \u001b[38;5;28;01mfrom\u001b[39;00m \u001b[38;5;21;01m.\u001b[39;00m\u001b[38;5;21;01mbase\u001b[39;00m \u001b[38;5;28;01mimport\u001b[39;00m MXNetError\n",
      "File \u001b[0;32m~/anaconda3/lib/python3.10/site-packages/mxnet/context.py:24\u001b[0m\n\u001b[1;32m     22\u001b[0m \u001b[38;5;28;01mimport\u001b[39;00m \u001b[38;5;21;01mwarnings\u001b[39;00m\n\u001b[1;32m     23\u001b[0m \u001b[38;5;28;01mimport\u001b[39;00m \u001b[38;5;21;01mctypes\u001b[39;00m\n\u001b[0;32m---> 24\u001b[0m \u001b[38;5;28;01mfrom\u001b[39;00m \u001b[38;5;21;01m.\u001b[39;00m\u001b[38;5;21;01mbase\u001b[39;00m \u001b[38;5;28;01mimport\u001b[39;00m classproperty, with_metaclass, _MXClassPropertyMetaClass\n\u001b[1;32m     25\u001b[0m \u001b[38;5;28;01mfrom\u001b[39;00m \u001b[38;5;21;01m.\u001b[39;00m\u001b[38;5;21;01mbase\u001b[39;00m \u001b[38;5;28;01mimport\u001b[39;00m _LIB\n\u001b[1;32m     26\u001b[0m \u001b[38;5;28;01mfrom\u001b[39;00m \u001b[38;5;21;01m.\u001b[39;00m\u001b[38;5;21;01mbase\u001b[39;00m \u001b[38;5;28;01mimport\u001b[39;00m check_call\n",
      "File \u001b[0;32m~/anaconda3/lib/python3.10/site-packages/mxnet/base.py:214\u001b[0m\n\u001b[1;32m    212\u001b[0m __version__ \u001b[38;5;241m=\u001b[39m libinfo\u001b[38;5;241m.\u001b[39m__version__\n\u001b[1;32m    213\u001b[0m \u001b[38;5;66;03m# library instance of mxnet\u001b[39;00m\n\u001b[0;32m--> 214\u001b[0m _LIB \u001b[38;5;241m=\u001b[39m \u001b[43m_load_lib\u001b[49m\u001b[43m(\u001b[49m\u001b[43m)\u001b[49m\n\u001b[1;32m    216\u001b[0m \u001b[38;5;66;03m# type definitions\u001b[39;00m\n\u001b[1;32m    217\u001b[0m mx_int \u001b[38;5;241m=\u001b[39m ctypes\u001b[38;5;241m.\u001b[39mc_int\n",
      "File \u001b[0;32m~/anaconda3/lib/python3.10/site-packages/mxnet/base.py:205\u001b[0m, in \u001b[0;36m_load_lib\u001b[0;34m()\u001b[0m\n\u001b[1;32m    203\u001b[0m \u001b[38;5;124;03m\"\"\"Load library by searching possible path.\"\"\"\u001b[39;00m\n\u001b[1;32m    204\u001b[0m lib_path \u001b[38;5;241m=\u001b[39m libinfo\u001b[38;5;241m.\u001b[39mfind_lib_path()\n\u001b[0;32m--> 205\u001b[0m lib \u001b[38;5;241m=\u001b[39m \u001b[43mctypes\u001b[49m\u001b[38;5;241;43m.\u001b[39;49m\u001b[43mCDLL\u001b[49m\u001b[43m(\u001b[49m\u001b[43mlib_path\u001b[49m\u001b[43m[\u001b[49m\u001b[38;5;241;43m0\u001b[39;49m\u001b[43m]\u001b[49m\u001b[43m,\u001b[49m\u001b[43m \u001b[49m\u001b[43mctypes\u001b[49m\u001b[38;5;241;43m.\u001b[39;49m\u001b[43mRTLD_LOCAL\u001b[49m\u001b[43m)\u001b[49m\n\u001b[1;32m    206\u001b[0m \u001b[38;5;66;03m# DMatrix functions\u001b[39;00m\n\u001b[1;32m    207\u001b[0m lib\u001b[38;5;241m.\u001b[39mMXGetLastError\u001b[38;5;241m.\u001b[39mrestype \u001b[38;5;241m=\u001b[39m ctypes\u001b[38;5;241m.\u001b[39mc_char_p\n",
      "File \u001b[0;32m~/anaconda3/lib/python3.10/ctypes/__init__.py:374\u001b[0m, in \u001b[0;36mCDLL.__init__\u001b[0;34m(self, name, mode, handle, use_errno, use_last_error, winmode)\u001b[0m\n\u001b[1;32m    371\u001b[0m \u001b[38;5;28mself\u001b[39m\u001b[38;5;241m.\u001b[39m_FuncPtr \u001b[38;5;241m=\u001b[39m _FuncPtr\n\u001b[1;32m    373\u001b[0m \u001b[38;5;28;01mif\u001b[39;00m handle \u001b[38;5;129;01mis\u001b[39;00m \u001b[38;5;28;01mNone\u001b[39;00m:\n\u001b[0;32m--> 374\u001b[0m     \u001b[38;5;28mself\u001b[39m\u001b[38;5;241m.\u001b[39m_handle \u001b[38;5;241m=\u001b[39m \u001b[43m_dlopen\u001b[49m\u001b[43m(\u001b[49m\u001b[38;5;28;43mself\u001b[39;49m\u001b[38;5;241;43m.\u001b[39;49m\u001b[43m_name\u001b[49m\u001b[43m,\u001b[49m\u001b[43m \u001b[49m\u001b[43mmode\u001b[49m\u001b[43m)\u001b[49m\n\u001b[1;32m    375\u001b[0m \u001b[38;5;28;01melse\u001b[39;00m:\n\u001b[1;32m    376\u001b[0m     \u001b[38;5;28mself\u001b[39m\u001b[38;5;241m.\u001b[39m_handle \u001b[38;5;241m=\u001b[39m handle\n",
      "\u001b[0;31mOSError\u001b[0m: dlopen(/Users/praneetshaw/anaconda3/lib/python3.10/site-packages/mxnet/libmxnet.so, 0x0006): tried: '/Users/praneetshaw/anaconda3/lib/python3.10/site-packages/mxnet/libmxnet.so' (not a mach-o file), '/System/Volumes/Preboot/Cryptexes/OS/Users/praneetshaw/anaconda3/lib/python3.10/site-packages/mxnet/libmxnet.so' (no such file), '/Users/praneetshaw/anaconda3/lib/python3.10/site-packages/mxnet/libmxnet.so' (not a mach-o file)"
     ]
    }
   ],
   "source": [
    "from gluonts.mx import DeepStateEstimator, Trainer"
   ]
  },
  {
   "cell_type": "code",
   "execution_count": 19,
   "id": "cb063df0",
   "metadata": {},
   "outputs": [
    {
     "ename": "OSError",
     "evalue": "dlopen(/Users/praneetshaw/anaconda3/lib/python3.10/site-packages/mxnet/libmxnet.so, 0x0006): tried: '/Users/praneetshaw/anaconda3/lib/python3.10/site-packages/mxnet/libmxnet.so' (not a mach-o file), '/System/Volumes/Preboot/Cryptexes/OS/Users/praneetshaw/anaconda3/lib/python3.10/site-packages/mxnet/libmxnet.so' (no such file), '/Users/praneetshaw/anaconda3/lib/python3.10/site-packages/mxnet/libmxnet.so' (not a mach-o file)",
     "output_type": "error",
     "traceback": [
      "\u001b[0;31m---------------------------------------------------------------------------\u001b[0m",
      "\u001b[0;31mOSError\u001b[0m                                   Traceback (most recent call last)",
      "Cell \u001b[0;32mIn[19], line 1\u001b[0m\n\u001b[0;32m----> 1\u001b[0m \u001b[38;5;28;01mimport\u001b[39;00m \u001b[38;5;21;01mgluonts\u001b[39;00m\u001b[38;5;21;01m.\u001b[39;00m\u001b[38;5;21;01mmx\u001b[39;00m\u001b[38;5;21;01m.\u001b[39;00m\u001b[38;5;21;01mmodel\u001b[39;00m\u001b[38;5;21;01m.\u001b[39;00m\u001b[38;5;21;01mdeepstate\u001b[39;00m\u001b[38;5;21;01m.\u001b[39;00m\u001b[38;5;21;01missm\u001b[39;00m \u001b[38;5;28;01mas\u001b[39;00m \u001b[38;5;21;01miss\u001b[39;00m\n",
      "File \u001b[0;32m~/anaconda3/lib/python3.10/site-packages/gluonts/mx/__init__.py:21\u001b[0m\n\u001b[1;32m     18\u001b[0m \u001b[38;5;28;01mimport\u001b[39;00m \u001b[38;5;21;01mtyping\u001b[39;00m\n\u001b[1;32m     19\u001b[0m \u001b[38;5;28;01mfrom\u001b[39;00m \u001b[38;5;21;01mpkgutil\u001b[39;00m \u001b[38;5;28;01mimport\u001b[39;00m extend_path\n\u001b[0;32m---> 21\u001b[0m \u001b[38;5;28;01mimport\u001b[39;00m \u001b[38;5;21;01mmxnet\u001b[39;00m \u001b[38;5;28;01mas\u001b[39;00m \u001b[38;5;21;01mmx\u001b[39;00m\n\u001b[1;32m     23\u001b[0m __path__ \u001b[38;5;241m=\u001b[39m extend_path(__path__, \u001b[38;5;18m__name__\u001b[39m)  \u001b[38;5;66;03m# type: ignore\u001b[39;00m\n\u001b[1;32m     25\u001b[0m \u001b[38;5;66;03m# Tensor type for HybridBlocks in Gluon\u001b[39;00m\n",
      "File \u001b[0;32m~/anaconda3/lib/python3.10/site-packages/mxnet/__init__.py:24\u001b[0m\n\u001b[1;32m     21\u001b[0m \u001b[38;5;124;03m\"\"\"MXNet: a concise, fast and flexible framework for deep learning.\"\"\"\u001b[39;00m\n\u001b[1;32m     22\u001b[0m \u001b[38;5;28;01mfrom\u001b[39;00m \u001b[38;5;21;01m__future__\u001b[39;00m \u001b[38;5;28;01mimport\u001b[39;00m absolute_import\n\u001b[0;32m---> 24\u001b[0m \u001b[38;5;28;01mfrom\u001b[39;00m \u001b[38;5;21;01m.\u001b[39;00m\u001b[38;5;21;01mcontext\u001b[39;00m \u001b[38;5;28;01mimport\u001b[39;00m Context, current_context, cpu, gpu, cpu_pinned\n\u001b[1;32m     25\u001b[0m \u001b[38;5;28;01mfrom\u001b[39;00m \u001b[38;5;21;01m.\u001b[39;00m \u001b[38;5;28;01mimport\u001b[39;00m engine\n\u001b[1;32m     26\u001b[0m \u001b[38;5;28;01mfrom\u001b[39;00m \u001b[38;5;21;01m.\u001b[39;00m\u001b[38;5;21;01mbase\u001b[39;00m \u001b[38;5;28;01mimport\u001b[39;00m MXNetError\n",
      "File \u001b[0;32m~/anaconda3/lib/python3.10/site-packages/mxnet/context.py:24\u001b[0m\n\u001b[1;32m     22\u001b[0m \u001b[38;5;28;01mimport\u001b[39;00m \u001b[38;5;21;01mwarnings\u001b[39;00m\n\u001b[1;32m     23\u001b[0m \u001b[38;5;28;01mimport\u001b[39;00m \u001b[38;5;21;01mctypes\u001b[39;00m\n\u001b[0;32m---> 24\u001b[0m \u001b[38;5;28;01mfrom\u001b[39;00m \u001b[38;5;21;01m.\u001b[39;00m\u001b[38;5;21;01mbase\u001b[39;00m \u001b[38;5;28;01mimport\u001b[39;00m classproperty, with_metaclass, _MXClassPropertyMetaClass\n\u001b[1;32m     25\u001b[0m \u001b[38;5;28;01mfrom\u001b[39;00m \u001b[38;5;21;01m.\u001b[39;00m\u001b[38;5;21;01mbase\u001b[39;00m \u001b[38;5;28;01mimport\u001b[39;00m _LIB\n\u001b[1;32m     26\u001b[0m \u001b[38;5;28;01mfrom\u001b[39;00m \u001b[38;5;21;01m.\u001b[39;00m\u001b[38;5;21;01mbase\u001b[39;00m \u001b[38;5;28;01mimport\u001b[39;00m check_call\n",
      "File \u001b[0;32m~/anaconda3/lib/python3.10/site-packages/mxnet/base.py:214\u001b[0m\n\u001b[1;32m    212\u001b[0m __version__ \u001b[38;5;241m=\u001b[39m libinfo\u001b[38;5;241m.\u001b[39m__version__\n\u001b[1;32m    213\u001b[0m \u001b[38;5;66;03m# library instance of mxnet\u001b[39;00m\n\u001b[0;32m--> 214\u001b[0m _LIB \u001b[38;5;241m=\u001b[39m \u001b[43m_load_lib\u001b[49m\u001b[43m(\u001b[49m\u001b[43m)\u001b[49m\n\u001b[1;32m    216\u001b[0m \u001b[38;5;66;03m# type definitions\u001b[39;00m\n\u001b[1;32m    217\u001b[0m mx_int \u001b[38;5;241m=\u001b[39m ctypes\u001b[38;5;241m.\u001b[39mc_int\n",
      "File \u001b[0;32m~/anaconda3/lib/python3.10/site-packages/mxnet/base.py:205\u001b[0m, in \u001b[0;36m_load_lib\u001b[0;34m()\u001b[0m\n\u001b[1;32m    203\u001b[0m \u001b[38;5;124;03m\"\"\"Load library by searching possible path.\"\"\"\u001b[39;00m\n\u001b[1;32m    204\u001b[0m lib_path \u001b[38;5;241m=\u001b[39m libinfo\u001b[38;5;241m.\u001b[39mfind_lib_path()\n\u001b[0;32m--> 205\u001b[0m lib \u001b[38;5;241m=\u001b[39m \u001b[43mctypes\u001b[49m\u001b[38;5;241;43m.\u001b[39;49m\u001b[43mCDLL\u001b[49m\u001b[43m(\u001b[49m\u001b[43mlib_path\u001b[49m\u001b[43m[\u001b[49m\u001b[38;5;241;43m0\u001b[39;49m\u001b[43m]\u001b[49m\u001b[43m,\u001b[49m\u001b[43m \u001b[49m\u001b[43mctypes\u001b[49m\u001b[38;5;241;43m.\u001b[39;49m\u001b[43mRTLD_LOCAL\u001b[49m\u001b[43m)\u001b[49m\n\u001b[1;32m    206\u001b[0m \u001b[38;5;66;03m# DMatrix functions\u001b[39;00m\n\u001b[1;32m    207\u001b[0m lib\u001b[38;5;241m.\u001b[39mMXGetLastError\u001b[38;5;241m.\u001b[39mrestype \u001b[38;5;241m=\u001b[39m ctypes\u001b[38;5;241m.\u001b[39mc_char_p\n",
      "File \u001b[0;32m~/anaconda3/lib/python3.10/ctypes/__init__.py:374\u001b[0m, in \u001b[0;36mCDLL.__init__\u001b[0;34m(self, name, mode, handle, use_errno, use_last_error, winmode)\u001b[0m\n\u001b[1;32m    371\u001b[0m \u001b[38;5;28mself\u001b[39m\u001b[38;5;241m.\u001b[39m_FuncPtr \u001b[38;5;241m=\u001b[39m _FuncPtr\n\u001b[1;32m    373\u001b[0m \u001b[38;5;28;01mif\u001b[39;00m handle \u001b[38;5;129;01mis\u001b[39;00m \u001b[38;5;28;01mNone\u001b[39;00m:\n\u001b[0;32m--> 374\u001b[0m     \u001b[38;5;28mself\u001b[39m\u001b[38;5;241m.\u001b[39m_handle \u001b[38;5;241m=\u001b[39m \u001b[43m_dlopen\u001b[49m\u001b[43m(\u001b[49m\u001b[38;5;28;43mself\u001b[39;49m\u001b[38;5;241;43m.\u001b[39;49m\u001b[43m_name\u001b[49m\u001b[43m,\u001b[49m\u001b[43m \u001b[49m\u001b[43mmode\u001b[49m\u001b[43m)\u001b[49m\n\u001b[1;32m    375\u001b[0m \u001b[38;5;28;01melse\u001b[39;00m:\n\u001b[1;32m    376\u001b[0m     \u001b[38;5;28mself\u001b[39m\u001b[38;5;241m.\u001b[39m_handle \u001b[38;5;241m=\u001b[39m handle\n",
      "\u001b[0;31mOSError\u001b[0m: dlopen(/Users/praneetshaw/anaconda3/lib/python3.10/site-packages/mxnet/libmxnet.so, 0x0006): tried: '/Users/praneetshaw/anaconda3/lib/python3.10/site-packages/mxnet/libmxnet.so' (not a mach-o file), '/System/Volumes/Preboot/Cryptexes/OS/Users/praneetshaw/anaconda3/lib/python3.10/site-packages/mxnet/libmxnet.so' (no such file), '/Users/praneetshaw/anaconda3/lib/python3.10/site-packages/mxnet/libmxnet.so' (not a mach-o file)"
     ]
    }
   ],
   "source": [
    "import gluonts.mx.model.deepstate.issm as iss"
   ]
  },
  {
   "cell_type": "code",
   "execution_count": null,
   "id": "fd351906",
   "metadata": {},
   "outputs": [],
   "source": [
    "estimator=DeepStateEstimator(freq= 'D', prediction_length= 99, cardinality= [2]*len(categorical_test[0]),\n",
    "add_trend = True,\n",
    "num_periods_to_train = 10, #past_length,\n",
    "trainer = Trainer(\n",
    "add_default_callbacks=True, callbacks=None, clip_gradient=10.0, \n",
    "ctx='cpu', epochs=1000, hybridize=True, init='xavier', \n",
    "learning_rate=0.001, num_batches_per_epoch=50, \n",
    "weight_decay=1e-04),\n",
    "num_layers = 5, \n",
    "num_cells = 7, \n",
    "cell_type = 'lstm', \n",
    "num_parallel_samples = 1000, dropout_rate = 0.2, \n",
    "use_feat_dynamic_real = False,\n",
    "use_feat_static_cat = False,\n",
    "#embedding_dimension: Optional[List[int]] = None, \n",
    "#issm= iss.LevelISSM(),\n",
    "scaling = False, \n",
    "#time_features: Optional[List[Callable[[pandas.core.indexes.period.PeriodIndex], numpy.ndarray]]] = None,\n",
    "#noise_std_bounds: gluonts.mx.distribution.lds.ParameterBounds = gluonts.mx.distribution.lds.ParameterBounds(lower=1e-06, upper=1.0), \n",
    "#prior_cov_bounds: gluonts.mx.distribution.lds.ParameterBounds = gluonts.mx.distribution.lds.ParameterBounds(lower=1e-06, upper=1.0), \n",
    "#innovation_bounds: gluonts.mx.distribution.lds.ParameterBounds = gluonts.mx.distribution.lds.ParameterBounds(lower=1e-06, upper=0.01), \n",
    "batch_size = 32)"
   ]
  },
  {
   "cell_type": "code",
   "execution_count": null,
   "id": "75a3f03d",
   "metadata": {},
   "outputs": [],
   "source": [
    "predictor = estimator.train(train_ds)"
   ]
  },
  {
   "cell_type": "code",
   "execution_count": 348,
   "id": "b94551a1",
   "metadata": {},
   "outputs": [],
   "source": [
    "import numpy as np\n",
    "import pandas as pd\n",
    "from pymongo import MongoClient\n",
    "import Config\n",
    "import warnings\n",
    "import matplotlib.pyplot as plt\n",
    "warnings.filterwarnings(\"ignore\")\n",
    "client=MongoClient(Config.DB_Hostname,Config.DB_Port)\n"
   ]
  },
  {
   "cell_type": "code",
   "execution_count": 349,
   "id": "f3357e8d",
   "metadata": {},
   "outputs": [],
   "source": [
    "df=pd.DataFrame(client.Strategy.NIFTY_Predicted_Parameters.find())"
   ]
  },
  {
   "cell_type": "code",
   "execution_count": 350,
   "id": "3eb593d2",
   "metadata": {},
   "outputs": [],
   "source": [
    "df[\"flag\"]=np.where(df.second_drawdown_pnl>=0,1,0)"
   ]
  },
  {
   "cell_type": "code",
   "execution_count": 382,
   "id": "194ef0ea",
   "metadata": {},
   "outputs": [
    {
     "data": {
      "text/plain": [
       "80"
      ]
     },
     "execution_count": 382,
     "metadata": {},
     "output_type": "execute_result"
    }
   ],
   "source": [
    "n=200000\n",
    "df[n:n+3840].groupby('strategy_variant').mean().PnL.idxmax()"
   ]
  },
  {
   "cell_type": "code",
   "execution_count": 352,
   "id": "6ed9176c",
   "metadata": {},
   "outputs": [
    {
     "data": {
      "text/plain": [
       "-679.6826408053438"
      ]
     },
     "execution_count": 352,
     "metadata": {},
     "output_type": "execute_result"
    }
   ],
   "source": [
    "df.groupby('strategy_variant').mean().second_drawdown_pnl.max()"
   ]
  },
  {
   "cell_type": "code",
   "execution_count": 381,
   "id": "399818f9",
   "metadata": {},
   "outputs": [
    {
     "data": {
      "text/plain": [
       "715.3925948666581"
      ]
     },
     "execution_count": 381,
     "metadata": {},
     "output_type": "execute_result"
    }
   ],
   "source": [
    "df[df.strategy_variant==48].PnL[520:530].mean()"
   ]
  },
  {
   "cell_type": "code",
   "execution_count": 376,
   "id": "4e0e27dd",
   "metadata": {},
   "outputs": [
    {
     "data": {
      "text/plain": [
       "520.8333333333334"
      ]
     },
     "execution_count": 376,
     "metadata": {},
     "output_type": "execute_result"
    }
   ],
   "source": [
    "200000/384"
   ]
  },
  {
   "cell_type": "code",
   "execution_count": null,
   "id": "486e8c87",
   "metadata": {},
   "outputs": [],
   "source": []
  }
 ],
 "metadata": {
  "kernelspec": {
   "display_name": "Python 3 (ipykernel)",
   "language": "python",
   "name": "python3"
  },
  "language_info": {
   "codemirror_mode": {
    "name": "ipython",
    "version": 3
   },
   "file_extension": ".py",
   "mimetype": "text/x-python",
   "name": "python",
   "nbconvert_exporter": "python",
   "pygments_lexer": "ipython3",
   "version": "3.10.9"
  }
 },
 "nbformat": 4,
 "nbformat_minor": 5
}
