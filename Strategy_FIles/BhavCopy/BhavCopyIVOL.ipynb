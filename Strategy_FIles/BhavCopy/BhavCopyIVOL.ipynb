{
 "cells": [
  {
   "cell_type": "code",
   "execution_count": 1,
   "id": "2a531bfa",
   "metadata": {},
   "outputs": [],
   "source": [
    "import zipfile\n",
    "import requests\n",
    "import pandas as pd\n",
    "import numpy as np\n",
    "from datetime import datetime \n",
    "import warnings\n",
    "warnings.filterwarnings(\"ignore\")        \n",
    "import datetime\n",
    "import BS\n",
    "import Config\n",
    "from pymongo import MongoClient\n",
    "import time\n",
    "from os import listdir\n",
    "from os.path import isfile, join\n",
    "\n",
    "client = MongoClient(Config.DB_Hostname, Config.DB_Port)\n",
    "\n",
    "def Upload_Bhavcopy():\n",
    "    path=\"/Users/praneetshaw/Desktop/Strategy/Strategy_FIles/BhavCopy/Bhav/\"\n",
    "    onlyfiles = [f for f in listdir(path) if isfile(join(path, f))]\n",
    "    onlyfiles = [s for s in onlyfiles if \".csv\" in s]\n",
    "    dates=[ datetime.datetime.strptime(o[2:11],\"%d%b%Y\") for o in onlyfiles]\n",
    "    onlyfiles= [o for d,o in sorted(zip(dates,onlyfiles))]\n",
    "    flag=0\n",
    "    for h in onlyfiles:\n",
    "                    \n",
    "\n",
    "        try:\n",
    "            with zipfile.ZipFile(f'{path+h}', 'r') as zip_ref:\n",
    "                zip_ref.extractall('BhavCopy')\n",
    "\n",
    "            try: \n",
    "                try:\n",
    "                    bhavcopy = pd.read_csv(f\"BhavCopy/{h[:-4]}\")\n",
    "                except Exception as e:\n",
    "                    bhavcopy = pd.read_csv(f\"BhavCopy/{h[:-4]}/{h[:-4]}\")\n",
    "\n",
    "                bhavcopy[\"Expiry_Today\"]=np.where(bhavcopy.EXPIRY_DT.str.upper()==bhavcopy.TIMESTAMP,1,0)\n",
    "                bhavcopy[\"CLOSE\"]=np.where((bhavcopy.OPTION_TYP==\"CE\")&(bhavcopy.Expiry_Today==1),np.maximum(bhavcopy.SETTLE_PR-bhavcopy.STRIKE_PR,0),bhavcopy.CLOSE)\n",
    "                bhavcopy[\"CLOSE\"]=np.where((bhavcopy.OPTION_TYP==\"PE\")&(bhavcopy.Expiry_Today==1),np.maximum(bhavcopy.STRIKE_PR-bhavcopy.SETTLE_PR,0),bhavcopy.CLOSE)\n",
    "                bhavcopy[\"CLOSE\"]=np.where((bhavcopy.OPTION_TYP==\"XX\")&(bhavcopy.Expiry_Today==1),bhavcopy.SETTLE_PR,bhavcopy.CLOSE)\n",
    "                bhavcopy=bhavcopy[[ 'INSTRUMENT','SYMBOL', 'EXPIRY_DT', 'STRIKE_PR', 'OPTION_TYP', 'OPEN','HIGH', 'LOW', 'CLOSE', 'SETTLE_PR', 'CONTRACTS', 'VAL_INLAKH','OPEN_INT', 'CHG_IN_OI', 'TIMESTAMP',]]\n",
    "\n",
    "                print(client.Strategy.Bhavcopy_Subset.delete_many({\"TIMESTAMP\":h[2:11][:2]+\"-\"+h[2:11][2:5]+\"-\"+h[2:11][-4:]}).deleted_count,f\" documents deleted for {h[2:11]}\")\n",
    "                print(len(client.Strategy.Bhavcopy_Subset.insert_many(bhavcopy.to_dict('records')).inserted_ids),f\" documents entered for {h[2:11]}\\n\")\n",
    "\n",
    "            except Exception as e:\n",
    "                print(e,f\"Could not read {h[:-4]}\")\n",
    "\n",
    "        except Exception as e:\n",
    "            print(e,f\". Bhav Copy is not available for {h}\")\n",
    "\n",
    "\n",
    "def Download_Bhavcopy(date_today):\n",
    "    \n",
    "    date=date_today[:2]+\"-\"+date_today[2:5]+\"-\"+date_today[-4:]\n",
    "    print(date)\n",
    "    return pd.DataFrame(pd.DataFrame(client.Strategy.Bhavcopy_Subset.find({\"TIMESTAMP\":date})))\n",
    "\n",
    "def Process_Bhavcopy(bhavcopy,date_today,hdays=[]):\n",
    "    \n",
    "    start=time.time()\n",
    "    bhavcopy.EXPIRY_DT=pd.to_datetime(bhavcopy.EXPIRY_DT)\n",
    "    total_summary=pd.DataFrame(columns=['Underlying', 'Date', 'IV_Current', 'IV_Next'])\n",
    "    date_today_formatted=datetime.datetime.strftime(datetime.datetime.strptime(date_today, '%d%b%Y'),\"%Y-%m-%d\")\n",
    "    \n",
    "    for Underlying in [\"NIFTY\", \"BANKNIFTY\"]:\n",
    "        try:\n",
    "            bhavcopy_sub=bhavcopy[(bhavcopy.SYMBOL==Underlying)]\n",
    "            summary={}\n",
    "            summary[\"Underlying\"]=Underlying\n",
    "            summary[\"Date\"]=date_today_formatted\n",
    "            bhavcopy_sub_FUT=bhavcopy_sub[bhavcopy_sub.OPTION_TYP==\"XX\"]\n",
    "            bhavcopy_sub_OPT=bhavcopy_sub[bhavcopy_sub.OPTION_TYP!=\"XX\"]\n",
    "            bhavcopy_sub_FUT.sort_values(by='EXPIRY_DT',inplace=True)\n",
    "            bhavcopy_sub_OPT.sort_values(by='EXPIRY_DT',inplace=True)\n",
    "            Future_open=float(bhavcopy_sub_FUT.OPEN[0:1])\n",
    "            bhavcopy_sub_OPT=bhavcopy_sub_OPT[bhavcopy_sub_OPT.EXPIRY_DT.isin(bhavcopy_sub_OPT.EXPIRY_DT.sort_values().unique()[0:2])]\n",
    "            bhavcopy_sub_OPT[\"Time_To_Expiry\"]=bhavcopy_sub_OPT.EXPIRY_DT.apply(lambda x: np.busday_count(datetime.datetime.strptime(date_today, '%d%b%Y').date(),x.date(),holidays=hdays))\n",
    "            bhavcopy_sub_OPT[\"Strike_FUT_Diff_Open\"]=abs(bhavcopy_sub_OPT.STRIKE_PR-Future_open)\n",
    "            temp=bhavcopy_sub_OPT.groupby('EXPIRY_DT').Strike_FUT_Diff_Open.min()\n",
    "            bhavcopy_open_options=bhavcopy_sub_OPT[bhavcopy_sub_OPT.Strike_FUT_Diff_Open.isin(temp)]\n",
    "            bhavcopy_open_options[\"IVOL\"]=bhavcopy_open_options[['OPEN','STRIKE_PR','Time_To_Expiry','OPTION_TYP']].apply(lambda x : BS.implied_volatility(x.OPEN,Future_open,x.STRIKE_PR,(x.Time_To_Expiry+1)/252,Config.interest_rate,x.OPTION_TYP), axis=1)\n",
    "            bhavcopy_open_options.IVOL.fillna(bhavcopy_open_options.IVOL.mean(),inplace=True)\n",
    "            bhavcopy_open_options.IVOL.fillna(0,inplace=True)\n",
    "            summary[\"IV_Current\"]=bhavcopy_open_options[bhavcopy_open_options.EXPIRY_DT==bhavcopy_open_options.EXPIRY_DT.unique()[0]].IVOL.mean()\n",
    "            summary[\"IV_Next\"]=bhavcopy_open_options[bhavcopy_open_options.EXPIRY_DT==bhavcopy_open_options.EXPIRY_DT.unique()[1]].IVOL.mean()\n",
    "            total_summary=pd.concat([total_summary,pd.DataFrame([summary])])\n",
    "        except Exception as e:\n",
    "            print(Underlying,e)\n",
    "            \n",
    "    print(client.Strategy.Daily_Bhavcopy.delete_many({\"Date\":date_today_formatted}).deleted_count,f\" documents deleted for {date_today_formatted}\")\n",
    "    print(len(client.Strategy.Daily_Bhavcopy.insert_many(total_summary.to_dict('records')).inserted_ids),f\" documents entered for {date_today_formatted}\\n\")\n",
    "    print(\"Processing Time: \",time.time()-start)"
   ]
  },
  {
   "cell_type": "code",
   "execution_count": 2,
   "id": "d2f02109",
   "metadata": {
    "scrolled": false
   },
   "outputs": [
    {
     "name": "stdout",
     "output_type": "stream",
     "text": [
      "0  documents deleted for 21FEB2024\n",
      "54826  documents entered for 21FEB2024\n",
      "\n",
      "0  documents deleted for 22FEB2024\n",
      "54910  documents entered for 22FEB2024\n",
      "\n",
      "0  documents deleted for 23FEB2024\n",
      "55038  documents entered for 23FEB2024\n",
      "\n",
      "0  documents deleted for 26FEB2024\n",
      "55134  documents entered for 26FEB2024\n",
      "\n"
     ]
    }
   ],
   "source": [
    "Upload_Bhavcopy()"
   ]
  },
  {
   "cell_type": "code",
   "execution_count": 3,
   "id": "d17b9d33",
   "metadata": {
    "scrolled": false
   },
   "outputs": [
    {
     "name": "stdout",
     "output_type": "stream",
     "text": [
      "21-FEB-2024\n",
      "Downloading_Time:  0.7310910224914551\n",
      "0  documents deleted for 2024-02-21\n",
      "2  documents entered for 2024-02-21\n",
      "\n",
      "Processing Time:  0.4410669803619385\n",
      "22-FEB-2024\n",
      "Downloading_Time:  0.5799009799957275\n",
      "0  documents deleted for 2024-02-22\n",
      "2  documents entered for 2024-02-22\n",
      "\n",
      "Processing Time:  0.4377620220184326\n",
      "23-FEB-2024\n",
      "Downloading_Time:  0.5773019790649414\n",
      "0  documents deleted for 2024-02-23\n",
      "2  documents entered for 2024-02-23\n",
      "\n",
      "Processing Time:  0.423555850982666\n",
      "24-FEB-2024\n",
      "Downloading_Time:  0.21693801879882812\n",
      "Could not process for 24FEB2024\n",
      "25-FEB-2024\n",
      "Downloading_Time:  0.1711282730102539\n",
      "Could not process for 25FEB2024\n",
      "26-FEB-2024\n",
      "Downloading_Time:  0.5496101379394531\n",
      "0  documents deleted for 2024-02-26\n",
      "2  documents entered for 2024-02-26\n",
      "\n",
      "Processing Time:  0.42804479598999023\n"
     ]
    }
   ],
   "source": [
    "start_date=\"21FEB2024\"\n",
    "end_date=\"27FEB2024\"\n",
    "date=datetime.datetime.strptime(start_date, '%d%b%Y')\n",
    "holidays=pd.DataFrame(client.Strategy.Holidays.find())\n",
    "holidays=[d.date() for d in pd.to_datetime(holidays.date)]\n",
    "\n",
    "while(date!=datetime.datetime.strptime(end_date, '%d%b%Y')): \n",
    "    \n",
    "    date_today=datetime.datetime.strftime(date,\"%d%b%Y\").upper()\n",
    "\n",
    "    start=time.time()\n",
    "    bhavcopy=Download_Bhavcopy(date_today)\n",
    "    print(\"Downloading_Time: \",time.time()-start)\n",
    "    \n",
    "    if(len(bhavcopy)>0):\n",
    "        Process_Bhavcopy(bhavcopy, date_today, hdays=holidays)\n",
    "    else:\n",
    "        print(f\"Could not process for {date_today}\")\n",
    "    date += datetime.timedelta(days=1)"
   ]
  },
  {
   "cell_type": "code",
   "execution_count": 17,
   "id": "c9cfda9a",
   "metadata": {},
   "outputs": [],
   "source": [
    "df = pd.DataFrame(client.Strategy.Bhavcopy_Subset.find()).drop(columns = ['_id'])\n",
    "df = df[df.SYMBOL.isin([\"NIFTY\", \"BANKNIFTY\"])]\n"
   ]
  },
  {
   "cell_type": "code",
   "execution_count": 18,
   "id": "8c528fb4",
   "metadata": {},
   "outputs": [
    {
     "name": "stdout",
     "output_type": "stream",
     "text": [
      "58245\n"
     ]
    }
   ],
   "source": [
    "print(len(client.Strategy.Bhavcopy.insert_many(df.to_dict('records')).inserted_ids))\n"
   ]
  }
 ],
 "metadata": {
  "kernelspec": {
   "display_name": "Python 3 (ipykernel)",
   "language": "python",
   "name": "python3"
  },
  "language_info": {
   "codemirror_mode": {
    "name": "ipython",
    "version": 3
   },
   "file_extension": ".py",
   "mimetype": "text/x-python",
   "name": "python",
   "nbconvert_exporter": "python",
   "pygments_lexer": "ipython3",
   "version": "3.10.9"
  }
 },
 "nbformat": 4,
 "nbformat_minor": 5
}
