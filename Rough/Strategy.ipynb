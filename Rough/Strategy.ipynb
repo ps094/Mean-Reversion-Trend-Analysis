{
 "cells": [
  {
   "cell_type": "code",
   "execution_count": 13,
   "id": "4f1a5073",
   "metadata": {},
   "outputs": [],
   "source": [
    "index=16312\n",
    "Main_Direction=\"CE\"\n",
    "#CE/PE & PE/CE= 2:1\n",
    "if Main_Direction==\"CE\":\n",
    "    Secondary_Direction=\"PE\"\n",
    "else:\n",
    "    Secondary_Direction=\"CE\"    "
   ]
  },
  {
   "cell_type": "code",
   "execution_count": 14,
   "id": "8ddc8022",
   "metadata": {},
   "outputs": [
    {
     "name": "stdout",
     "output_type": "stream",
     "text": [
      "Target all legs when index is 16328.311999999998\n",
      "Target PE leg when index is 16287.532000000001\n",
      "SL EXIt  leg when index is 16271.220000000001\n"
     ]
    }
   ],
   "source": [
    "if Main_Direction==\"CE\":\n",
    "    print(f\"Target all legs when index is {1.001*index}\")\n",
    "    print(f\"Target {Secondary_Direction} leg when index is {0.9985*index}\")\n",
    "    print(f\"SL EXIt  leg when index is {0.9975*index}\")\n",
    "else:\n",
    "    print(f\"Target all legs when index is {0.999*index}\")\n",
    "    print(f\"Target {Secondary_Direction} leg when index is {1.0015*index}\")\n",
    "    print(f\"SL EXIt  leg when index is {1.0025*index}\")"
   ]
  },
  {
   "cell_type": "code",
   "execution_count": 37,
   "id": "2993a644",
   "metadata": {},
   "outputs": [],
   "source": [
    "#take position after 0.095% drop from previous peak, or 0.095% rise from previous trough.\n",
    "#Wait for 1m candle to form. Dont wait at exit. Next position taking to be judged from exit candle close.\n",
    "#A drop of 0.37% and above from previous peak while ascending implies a downward trend (1 min candle close)\n",
    "#An increase of 0.37% and above from previous trough while descending implies an upward trend (1 min candle close)\n",
    "#An straight move greater than 0.15%-0.5% in one minute candle from last. Dont take any position.\n",
    "#After 0.15%-0.5% wait till the index move by 0.04% in the reverse before counting 0.95% candle from 0.15%-0.5% candle end.\n",
    "#if the difference between last trough and crest is greater tha 0.37% then it implies direction change"
   ]
  },
  {
   "cell_type": "code",
   "execution_count": 1,
   "id": "ce65f3fe",
   "metadata": {},
   "outputs": [],
   "source": [
    "import numpy as np"
   ]
  },
  {
   "cell_type": "code",
   "execution_count": 4,
   "id": "453ec547",
   "metadata": {},
   "outputs": [
    {
     "data": {
      "text/plain": [
       "array([1. , 1.1, 1.2, 1.3, 1.4, 1.5, 1.6, 1.7, 1.8, 1.9])"
      ]
     },
     "execution_count": 4,
     "metadata": {},
     "output_type": "execute_result"
    }
   ],
   "source": [
    "y=[]\n",
    "for i in np.arange(0,1.01,0.01):\n",
    "    if i"
   ]
  },
  {
   "cell_type": "code",
   "execution_count": 1,
   "id": "3f44b15c",
   "metadata": {},
   "outputs": [],
   "source": [
    "from pymongo import MongoClient\n",
    "client = MongoClient(\"localhost\", 27017)"
   ]
  },
  {
   "cell_type": "code",
   "execution_count": 4,
   "id": "1a81a848",
   "metadata": {},
   "outputs": [
    {
     "data": {
      "text/plain": [
       "[{'A': 1}, {'A': 2}, {'A': 3}, {'A': 4}]"
      ]
     },
     "execution_count": 4,
     "metadata": {},
     "output_type": "execute_result"
    }
   ],
   "source": [
    "import pandas as pd\n",
    "print(client.Strategy.NIFTYOHLC.insert_many(pd.DataFrame({\"A\":[1,2,3,4]}).to_dict('records')).inserted_ids)\n"
   ]
  },
  {
   "cell_type": "code",
   "execution_count": 6,
   "id": "7d228b47",
   "metadata": {},
   "outputs": [
    {
     "data": {
      "text/html": [
       "<div>\n",
       "<style scoped>\n",
       "    .dataframe tbody tr th:only-of-type {\n",
       "        vertical-align: middle;\n",
       "    }\n",
       "\n",
       "    .dataframe tbody tr th {\n",
       "        vertical-align: top;\n",
       "    }\n",
       "\n",
       "    .dataframe thead th {\n",
       "        text-align: right;\n",
       "    }\n",
       "</style>\n",
       "<table border=\"1\" class=\"dataframe\">\n",
       "  <thead>\n",
       "    <tr style=\"text-align: right;\">\n",
       "      <th></th>\n",
       "      <th>A</th>\n",
       "      <th>B</th>\n",
       "    </tr>\n",
       "  </thead>\n",
       "  <tbody>\n",
       "    <tr>\n",
       "      <th>0</th>\n",
       "      <td>1</td>\n",
       "      <td>1</td>\n",
       "    </tr>\n",
       "    <tr>\n",
       "      <th>1</th>\n",
       "      <td>2</td>\n",
       "      <td>2</td>\n",
       "    </tr>\n",
       "    <tr>\n",
       "      <th>2</th>\n",
       "      <td>3</td>\n",
       "      <td>3</td>\n",
       "    </tr>\n",
       "    <tr>\n",
       "      <th>3</th>\n",
       "      <td>4</td>\n",
       "      <td>4</td>\n",
       "    </tr>\n",
       "  </tbody>\n",
       "</table>\n",
       "</div>"
      ],
      "text/plain": [
       "   A  B\n",
       "0  1  1\n",
       "1  2  2\n",
       "2  3  3\n",
       "3  4  4"
      ]
     },
     "execution_count": 6,
     "metadata": {},
     "output_type": "execute_result"
    }
   ],
   "source": [
    "pd.DataFrame({\"A\":[1,2,3,4],\"B\":[1,2,3,4]})"
   ]
  },
  {
   "cell_type": "code",
   "execution_count": 5,
   "id": "c4a10f4e",
   "metadata": {},
   "outputs": [
    {
     "data": {
      "text/plain": [
       "['Days_To_Expiry',\n",
       " 'BANKNIFTY_Predicted_Parameters',\n",
       " 'Holidays',\n",
       " 'Daily_Bhavcopy',\n",
       " 'Working_Holidays',\n",
       " 'BANKNIFTY_Guide_Parameters',\n",
       " 'Ensemble_Prediction',\n",
       " 'BANKNIFTY_Simulated_Parameters',\n",
       " 'Vol_Surface',\n",
       " 'NIFTY_Guide_Parameters',\n",
       " 'BANKNIFTYOHLC',\n",
       " 'Bhavcopy_Subset',\n",
       " 'NIFTY_Predicted_Parameters',\n",
       " 'Bhavcopy',\n",
       " 'NIFTYOHLC',\n",
       " 'NIFTY_Simulated_Parameters',\n",
       " 'ANN_Filter_Params',\n",
       " 'XGBoost_Filter_Params',\n",
       " 'Strategy_Variants']"
      ]
     },
     "execution_count": 5,
     "metadata": {},
     "output_type": "execute_result"
    }
   ],
   "source": [
    "client.Strategy.list_collection_names()"
   ]
  },
  {
   "cell_type": "code",
   "execution_count": null,
   "id": "73c2a1c9",
   "metadata": {},
   "outputs": [],
   "source": []
  }
 ],
 "metadata": {
  "kernelspec": {
   "display_name": "Python 3 (ipykernel)",
   "language": "python",
   "name": "python3"
  },
  "language_info": {
   "codemirror_mode": {
    "name": "ipython",
    "version": 3
   },
   "file_extension": ".py",
   "mimetype": "text/x-python",
   "name": "python",
   "nbconvert_exporter": "python",
   "pygments_lexer": "ipython3",
   "version": "3.10.9"
  }
 },
 "nbformat": 4,
 "nbformat_minor": 5
}
