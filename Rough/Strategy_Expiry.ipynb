{
 "cells": [
  {
   "cell_type": "code",
   "execution_count": 93,
   "id": "9d2509cb",
   "metadata": {},
   "outputs": [],
   "source": [
    "Price1=187.7\n",
    "Qty1=550\n",
    "Price2=171.52\n",
    "Qty2=550\n",
    "Type=\"CE\"\n",
    "ret=2.5"
   ]
  },
  {
   "cell_type": "code",
   "execution_count": 94,
   "id": "5d6151a8",
   "metadata": {},
   "outputs": [
    {
     "name": "stdout",
     "output_type": "stream",
     "text": [
      "Average at 178.31499999999997\n",
      "Target Price after first fill: 190.04625\n",
      "Average Price is 179.61\n",
      "Target Price after second fill: 180.73256250000003\n",
      "SL order at 156.70972500000002  after crossing 152.12967\n",
      "SL Hit Market after crossing 147.54961500000002\n"
     ]
    }
   ],
   "source": [
    "Avg=(Price1*Qty1 + Price2*Qty2)/(Qty1+Qty2)\n",
    "\n",
    "print(f\"Average at {Price1*0.95}\")\n",
    "if Type==\"PE\":\n",
    "    print(f\"Target Price after first fill: {Price1*(1+ret/100)}\")\n",
    "else:\n",
    "    print(f\"Target Price after first fill: {Price1*(1+ret/200)}\")    \n",
    "\n",
    "print(f\"Average Price is {Avg}\")\n",
    "if Type==\"PE\":\n",
    "    print(f\"Target Price after second fill: {Avg*(1+ret/200)}\")\n",
    "else:\n",
    "    print(f\"Target Price after second fill: {(Avg*(1+ret/400))}\")    \n",
    "\n",
    "print(f\"SL order at {Avg*0.8725}  after crossing {Avg*0.847}\")\n",
    "print(f\"SL Hit Market after crossing {Avg*0.8215}\")\n"
   ]
  },
  {
   "cell_type": "code",
   "execution_count": null,
   "id": "e6f7d39a",
   "metadata": {},
   "outputs": [],
   "source": []
  },
  {
   "cell_type": "code",
   "execution_count": null,
   "id": "2f014a89",
   "metadata": {},
   "outputs": [],
   "source": []
  },
  {
   "cell_type": "code",
   "execution_count": null,
   "id": "e7d0e549",
   "metadata": {},
   "outputs": [],
   "source": []
  }
 ],
 "metadata": {
  "kernelspec": {
   "display_name": "Python 3 (ipykernel)",
   "language": "python",
   "name": "python3"
  },
  "language_info": {
   "codemirror_mode": {
    "name": "ipython",
    "version": 3
   },
   "file_extension": ".py",
   "mimetype": "text/x-python",
   "name": "python",
   "nbconvert_exporter": "python",
   "pygments_lexer": "ipython3",
   "version": "3.9.7"
  }
 },
 "nbformat": 4,
 "nbformat_minor": 5
}
