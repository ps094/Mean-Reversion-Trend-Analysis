{
 "cells": [
  {
   "cell_type": "code",
   "execution_count": 1,
   "id": "24134ab1",
   "metadata": {
    "scrolled": true
   },
   "outputs": [],
   "source": [
    "from os import listdir\n",
    "from os.path import isfile, join\n",
    "from datetime import datetime \n",
    "import pandas as pd\n",
    "import Config\n",
    "from pymongo import MongoClient\n",
    "client = MongoClient(Config.DB_Hostname, Config.DB_Port)\n",
    "\n",
    "def push_into_sim(underlying, df):\n",
    "    \n",
    "    #underlying = NIFTY / BANKNIFTY, dtype = Guide / Simulated\n",
    "    dates = df.date.unique()\n",
    "    for d in dates:\n",
    "        temp = df[df.date == d]\n",
    "        print(client.Strategy[f\"{underlying}_Simulated_Parameters\"].delete_many({\"date\":d}).deleted_count,f\" documents deleted for {d}\")\n",
    "        print(len(client.Strategy[f\"{underlying}_Simulated_Parameters\"].insert_many(temp.to_dict('records')).inserted_ids),f\" documents entered for {d}\\n\")\n",
    "\n",
    "path=\"/Users/praneetshaw/Desktop/Strategy/CFiles/\"\n",
    "onlyfiles = [f for f in listdir(path) if isfile(join(path, f))]\n",
    "onlyfiles = [s for s in onlyfiles if \".csv\" in s]\n",
    "\n",
    "dates=[ datetime.strptime(o[:10],\"%Y-%m-%d\") for o in onlyfiles]\n",
    "onlyfiles= [o for d,o in sorted(zip(dates,onlyfiles))]\n",
    "\n",
    "df=pd.DataFrame()\n",
    "for f in onlyfiles:\n",
    "    df=pd.concat([df,pd.read_csv(f)])\n",
    "\n",
    "df.sort_values(['date','strategy_variant'],inplace=True)\n",
    "df.fillna(0, inplace=True)"
   ]
  },
  {
   "cell_type": "code",
   "execution_count": 2,
   "id": "89b6b728",
   "metadata": {},
   "outputs": [
    {
     "name": "stdout",
     "output_type": "stream",
     "text": [
      "0  documents deleted for 2024-01-18\n",
      "384  documents entered for 2024-01-18\n",
      "\n"
     ]
    }
   ],
   "source": [
    "push_into_sim(\"NIFTY\", df)\n",
    "#push_into_sim(\"BANKNIFTY\", df)"
   ]
  },
  {
   "cell_type": "code",
   "execution_count": null,
   "id": "539340e6",
   "metadata": {},
   "outputs": [],
   "source": []
  }
 ],
 "metadata": {
  "kernelspec": {
   "display_name": "Python 3 (ipykernel)",
   "language": "python",
   "name": "python3"
  },
  "language_info": {
   "codemirror_mode": {
    "name": "ipython",
    "version": 3
   },
   "file_extension": ".py",
   "mimetype": "text/x-python",
   "name": "python",
   "nbconvert_exporter": "python",
   "pygments_lexer": "ipython3",
   "version": "3.10.9"
  }
 },
 "nbformat": 4,
 "nbformat_minor": 5
}
