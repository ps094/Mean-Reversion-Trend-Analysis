{
 "cells": [
  {
   "cell_type": "code",
   "execution_count": null,
   "id": "02dc7dea",
   "metadata": {},
   "outputs": [],
   "source": [
    "import pandas as pd\n",
    "import matplotlib.pyplot as plt\n",
    "from os import listdir\n",
    "from os.path import isfile, join\n",
    "from datetime import datetime \n",
    "import pandas as pd\n",
    "from matplotlib import pyplot as plt\n",
    "from statsmodels.graphics.tsaplots import plot_acf\n",
    "from statsmodels.graphics.tsaplots import plot_pacf\n",
    "from pymongo import MongoClient\n",
    "import Config\n",
    "import numpy as np\n",
    "from scipy import stats \n",
    "from numpy.random import seed\n",
    "from numpy.random import randn\n",
    "from numpy.random import normal\n",
    "from scipy.stats import ttest_1samp\n",
    "import warnings\n",
    "import seaborn as sns\n",
    "pd.set_option('display.max_columns', None)\n",
    "import statsmodels.api as sm\n",
    "from scipy import stats\n",
    "from statsmodels.tsa.arima.model import ARIMA\n",
    "from statsmodels.tsa.stattools import kpss\n",
    "from sklearn.svm import SVR\n",
    "from sklearn.ensemble import RandomForestRegressor\n",
    "from sklearn.model_selection import train_test_split\n",
    "def kpss_test(series, **kw):    \n",
    "    statistic, p_value, n_lags, critical_values = kpss(series, **kw)\n",
    "    # Format Output\n",
    "    print(f'KPSS Statistic: {statistic}')\n",
    "    print(f'p-value: {p_value}')\n",
    "    print(f'num lags: {n_lags}')\n",
    "    print('Critial Values:')\n",
    "    for key, value in critical_values.items():\n",
    "        print(f'   {key} : {value}')\n",
    "    print(f'Result: The series is {\"not \" if p_value < 0.05 else \"\"}stationary')\n",
    "    \n",
    "def pred_errors(X):\n",
    "    y_pred=[]\n",
    "    y_orig=[]\n",
    "    train, test = X[0:100], X[100:len(X)]\n",
    "    history = [x for x in train]\n",
    "    \n",
    "    for t in range(len(test)):\n",
    "        model = ARIMA(history, order=(1,1,0))\n",
    "        model_fit = model.fit()\n",
    "        output = model_fit.forecast()\n",
    "        yhat = output[0]\n",
    "        y_pred.append(yhat)\n",
    "        obs = test[t]\n",
    "        history.append(obs)\n",
    "        y_orig.append(obs)\n",
    "    \n",
    "    return [a-b for a,b in zip(y_orig,y_pred)]\n",
    "\n",
    "warnings.filterwarnings(\"ignore\")\n",
    "client = MongoClient(Config.DB_Hostname,Config.DB_Port)"
   ]
  },
  {
   "cell_type": "markdown",
   "id": "38f0b0a3",
   "metadata": {},
   "source": [
    "# pos 0.2\n",
    "# mov 0.375\n",
    "# prof 0.25"
   ]
  },
  {
   "cell_type": "code",
   "execution_count": null,
   "id": "177fdb43",
   "metadata": {},
   "outputs": [],
   "source": [
    "0.265-0.005*23"
   ]
  },
  {
   "cell_type": "code",
   "execution_count": null,
   "id": "0b3b1639",
   "metadata": {},
   "outputs": [],
   "source": [
    "for i in range(24):\n",
    "    print(0.15+i*0.005)"
   ]
  },
  {
   "cell_type": "code",
   "execution_count": null,
   "id": "3e62eebc",
   "metadata": {},
   "outputs": [],
   "source": [
    "NIFTY=pd.read_csv(\"/Users/praneetshaw/Desktop/Strategy/CFiles/BANKNIFTY/BANKNIFTY\")\n",
    "NIFTY.drop(columns=['Unnamed: 0'],inplace=True)\n",
    "\n",
    "#BANKNIFTY=pd.read_csv(\"/Users/praneetshaw/Desktop/Strategy/CFiles/BANKNIFTY/BANKNIFTY\")\n",
    "#BANKNIFTY.drop(columns=['Unnamed: 0'],inplace=True)"
   ]
  },
  {
   "cell_type": "code",
   "execution_count": null,
   "id": "a0f9b23b",
   "metadata": {
    "scrolled": false
   },
   "outputs": [],
   "source": [
    "NIFTY.pos_param.hist(figsize=(20,10),bins=16)\n",
    "plt.show()\n",
    "NIFTY[(NIFTY.date>\"2016-12-31\")&(NIFTY.date<=\"2017-12-31\")].pos_param.hist(figsize=(20,10),bins=16)\n",
    "plt.show()\n",
    "NIFTY[(NIFTY.date>\"2017-12-31\")&(NIFTY.date<=\"2018-12-31\")].pos_param.hist(figsize=(20,10),bins=16)\n",
    "plt.show()\n",
    "NIFTY[(NIFTY.date>\"2018-12-31\")&(NIFTY.date<=\"2019-12-31\")].pos_param.hist(figsize=(20,10),bins=16)\n",
    "plt.show()\n",
    "NIFTY[(NIFTY.date>\"2019-12-31\")&(NIFTY.date<=\"2020-12-31\")].pos_param.hist(figsize=(20,10),bins=16)\n",
    "plt.show()\n",
    "NIFTY[(NIFTY.date>\"2020-12-31\")&(NIFTY.date<=\"2021-12-31\")].pos_param.hist(figsize=(20,10),bins=16)\n",
    "plt.show()\n",
    "NIFTY[(NIFTY.date>\"2021-12-31\")&(NIFTY.date<=\"2023-12-31\")].pos_param.hist(figsize=(20,10),bins=16)"
   ]
  },
  {
   "cell_type": "code",
   "execution_count": null,
   "id": "c1f3ee53",
   "metadata": {
    "scrolled": false
   },
   "outputs": [],
   "source": [
    "NIFTY.mov_param.hist(figsize=(20,10),bins=36)\n",
    "plt.show()\n",
    "NIFTY[(NIFTY.date>\"2016-12-31\")&(NIFTY.date<=\"2017-12-31\")].mov_param.hist(figsize=(20,10),bins=36)\n",
    "plt.show()\n",
    "NIFTY[(NIFTY.date>\"2017-12-31\")&(NIFTY.date<=\"2018-12-31\")].mov_param.hist(figsize=(20,10),bins=36)\n",
    "plt.show()\n",
    "NIFTY[(NIFTY.date>\"2018-12-31\")&(NIFTY.date<=\"2019-12-31\")].mov_param.hist(figsize=(20,10),bins=36)\n",
    "plt.show()\n",
    "NIFTY[(NIFTY.date>\"2019-12-31\")&(NIFTY.date<=\"2020-12-31\")].mov_param.hist(figsize=(20,10),bins=36)\n",
    "plt.show()\n",
    "NIFTY[(NIFTY.date>\"2020-12-31\")&(NIFTY.date<=\"2021-12-31\")].mov_param.hist(figsize=(20,10),bins=36)\n",
    "plt.show()\n",
    "NIFTY[(NIFTY.date>\"2021-12-31\")&(NIFTY.date<=\"2023-12-31\")].mov_param.hist(figsize=(20,10),bins=36)"
   ]
  },
  {
   "cell_type": "code",
   "execution_count": null,
   "id": "c1119a0f",
   "metadata": {
    "scrolled": false
   },
   "outputs": [],
   "source": [
    "NIFTY.prof_param.hist(figsize=(20,10),bins=18)\n",
    "plt.show()\n",
    "NIFTY[(NIFTY.date>\"2016-12-31\")&(NIFTY.date<=\"2017-12-31\")].prof_param.hist(figsize=(20,10),bins=18)\n",
    "plt.show()\n",
    "NIFTY[(NIFTY.date>\"2017-12-31\")&(NIFTY.date<=\"2018-12-31\")].prof_param.hist(figsize=(20,10),bins=18)\n",
    "plt.show()\n",
    "NIFTY[(NIFTY.date>\"2018-12-31\")&(NIFTY.date<=\"2019-12-31\")].prof_param.hist(figsize=(20,10),bins=18)\n",
    "plt.show()\n",
    "NIFTY[(NIFTY.date>\"2019-12-31\")&(NIFTY.date<=\"2020-12-31\")].prof_param.hist(figsize=(20,10),bins=18)\n",
    "plt.show()\n",
    "NIFTY[(NIFTY.date>\"2020-12-31\")&(NIFTY.date<=\"2021-12-31\")].prof_param.hist(figsize=(20,10),bins=18)\n",
    "plt.show()\n",
    "NIFTY[(NIFTY.date>\"2021-12-31\")&(NIFTY.date<=\"2023-12-31\")].prof_param.hist(figsize=(20,10),bins=18)"
   ]
  },
  {
   "cell_type": "code",
   "execution_count": null,
   "id": "a77a2720",
   "metadata": {
    "scrolled": false
   },
   "outputs": [],
   "source": [
    "NIFTY.groupby('pos_param').median().taylor_sensitivity_1.plot(figsize=(20,10),label=\"Global\")\n",
    "plt.show()\n",
    "NIFTY[(NIFTY.date>\"2016-12-31\")&(NIFTY.date<=\"2017-12-31\")].groupby('pos_param').median().taylor_sensitivity_1.plot(figsize=(20,10),label=\"2017\")\n",
    "NIFTY[(NIFTY.date>\"2017-12-31\")&(NIFTY.date<=\"2018-12-31\")].groupby('pos_param').median().taylor_sensitivity_1.plot(figsize=(20,10),label=\"2018\")\n",
    "NIFTY[(NIFTY.date>\"2018-12-31\")&(NIFTY.date<=\"2019-12-31\")].groupby('pos_param').median().taylor_sensitivity_1.plot(figsize=(20,10),label=\"2019\")\n",
    "NIFTY[(NIFTY.date>\"2019-12-31\")&(NIFTY.date<=\"2020-12-31\")].groupby('pos_param').median().taylor_sensitivity_1.plot(figsize=(20,10),label=\"2020\")\n",
    "NIFTY[(NIFTY.date>\"2020-12-31\")&(NIFTY.date<=\"2021-12-31\")].groupby('pos_param').median().taylor_sensitivity_1.plot(figsize=(20,10),label=\"2021\")\n",
    "NIFTY[(NIFTY.date>\"2021-12-31\")&(NIFTY.date<=\"2023-12-31\")].groupby('pos_param').median().taylor_sensitivity_1.plot(figsize=(20,10),label=\"2022\")\n",
    "plt.legend()\n",
    "plt.show()\n",
    "NIFTY.groupby('pos_param').median().taylor_sensitivity_1.rolling(8).mean().plot(figsize=(20,10),label=\"Global\")"
   ]
  },
  {
   "cell_type": "code",
   "execution_count": null,
   "id": "49648492",
   "metadata": {
    "scrolled": false
   },
   "outputs": [],
   "source": [
    "NIFTY.groupby('pos_param').median().taylor_sensitivity_2.plot(figsize=(20,10),label=\"Global\")\n",
    "plt.show()\n",
    "NIFTY[(NIFTY.date>\"2016-12-31\")&(NIFTY.date<=\"2017-12-31\")].groupby('pos_param').median().taylor_sensitivity_2.plot(figsize=(20,10),label=\"2017\")\n",
    "NIFTY[(NIFTY.date>\"2017-12-31\")&(NIFTY.date<=\"2018-12-31\")].groupby('pos_param').median().taylor_sensitivity_2.plot(figsize=(20,10),label=\"2018\")\n",
    "NIFTY[(NIFTY.date>\"2018-12-31\")&(NIFTY.date<=\"2019-12-31\")].groupby('pos_param').median().taylor_sensitivity_2.plot(figsize=(20,10),label=\"2019\")\n",
    "NIFTY[(NIFTY.date>\"2019-12-31\")&(NIFTY.date<=\"2020-12-31\")].groupby('pos_param').median().taylor_sensitivity_2.plot(figsize=(20,10),label=\"2020\")\n",
    "NIFTY[(NIFTY.date>\"2020-12-31\")&(NIFTY.date<=\"2021-12-31\")].groupby('pos_param').median().taylor_sensitivity_2.plot(figsize=(20,10),label=\"2021\")\n",
    "NIFTY[(NIFTY.date>\"2021-12-31\")&(NIFTY.date<=\"2023-12-31\")].groupby('pos_param').median().taylor_sensitivity_2.plot(figsize=(20,10),label=\"2022\")\n",
    "plt.legend()\n",
    "plt.show()\n",
    "NIFTY.groupby('pos_param').median().taylor_sensitivity_2.rolling(8).mean().plot(figsize=(20,10),label=\"Global\")"
   ]
  },
  {
   "cell_type": "code",
   "execution_count": null,
   "id": "00930b33",
   "metadata": {
    "scrolled": false
   },
   "outputs": [],
   "source": [
    "NIFTY.groupby('pos_param').median().taylor_sensitivity_3.plot(figsize=(20,10),label=\"Global\")\n",
    "plt.show()\n",
    "NIFTY[(NIFTY.date>\"2016-12-31\")&(NIFTY.date<=\"2017-12-31\")].groupby('pos_param').median().taylor_sensitivity_3.plot(figsize=(20,10),label=\"2017\")\n",
    "NIFTY[(NIFTY.date>\"2017-12-31\")&(NIFTY.date<=\"2018-12-31\")].groupby('pos_param').median().taylor_sensitivity_3.plot(figsize=(20,10),label=\"2018\")\n",
    "NIFTY[(NIFTY.date>\"2018-12-31\")&(NIFTY.date<=\"2019-12-31\")].groupby('pos_param').median().taylor_sensitivity_3.plot(figsize=(20,10),label=\"2019\")\n",
    "NIFTY[(NIFTY.date>\"2019-12-31\")&(NIFTY.date<=\"2020-12-31\")].groupby('pos_param').median().taylor_sensitivity_3.plot(figsize=(20,10),label=\"2020\")\n",
    "NIFTY[(NIFTY.date>\"2020-12-31\")&(NIFTY.date<=\"2021-12-31\")].groupby('pos_param').median().taylor_sensitivity_3.plot(figsize=(20,10),label=\"2021\")\n",
    "NIFTY[(NIFTY.date>\"2021-12-31\")&(NIFTY.date<=\"2023-12-31\")].groupby('pos_param').median().taylor_sensitivity_3.plot(figsize=(20,10),label=\"2022\")\n",
    "plt.legend()\n",
    "plt.show()\n",
    "NIFTY.groupby('pos_param').median().taylor_sensitivity_3.rolling(8).mean().plot(figsize=(20,10),label=\"Global\")"
   ]
  },
  {
   "cell_type": "code",
   "execution_count": null,
   "id": "ba97e435",
   "metadata": {
    "scrolled": false
   },
   "outputs": [],
   "source": [
    "NIFTY.groupby('pos_param').median().pnl.plot(figsize=(20,10),label=\"Global\")\n",
    "plt.show()\n",
    "NIFTY[(NIFTY.date>\"2016-12-31\")&(NIFTY.date<=\"2017-12-31\")].groupby('pos_param').median().pnl.plot(figsize=(20,10),label=\"2017\")\n",
    "NIFTY[(NIFTY.date>\"2017-12-31\")&(NIFTY.date<=\"2018-12-31\")].groupby('pos_param').median().pnl.plot(figsize=(20,10),label=\"2018\")\n",
    "NIFTY[(NIFTY.date>\"2018-12-31\")&(NIFTY.date<=\"2019-12-31\")].groupby('pos_param').median().pnl.plot(figsize=(20,10),label=\"2019\")\n",
    "NIFTY[(NIFTY.date>\"2019-12-31\")&(NIFTY.date<=\"2020-12-31\")].groupby('pos_param').median().pnl.plot(figsize=(20,10),label=\"2020\")\n",
    "NIFTY[(NIFTY.date>\"2020-12-31\")&(NIFTY.date<=\"2021-12-31\")].groupby('pos_param').median().pnl.plot(figsize=(20,10),label=\"2021\")\n",
    "NIFTY[(NIFTY.date>\"2021-12-31\")&(NIFTY.date<=\"2023-12-31\")].groupby('pos_param').median().pnl.plot(figsize=(20,10),label=\"2022\")\n",
    "plt.legend()\n",
    "plt.show()\n",
    "NIFTY.groupby('pos_param').median().pnl.rolling(8).mean().plot(figsize=(20,10),label=\"Global\")"
   ]
  },
  {
   "cell_type": "code",
   "execution_count": null,
   "id": "ab27fe0f",
   "metadata": {
    "scrolled": false
   },
   "outputs": [],
   "source": [
    "NIFTY.groupby('pos_param').mean().pos_diff.plot(figsize=(20,10),label=\"Global\")\n",
    "plt.show()\n",
    "NIFTY[(NIFTY.date>\"2016-12-31\")&(NIFTY.date<=\"2017-12-31\")].groupby('pos_param').mean().pos_diff.plot(figsize=(20,10),label=\"2017\")\n",
    "NIFTY[(NIFTY.date>\"2017-12-31\")&(NIFTY.date<=\"2018-12-31\")].groupby('pos_param').mean().pos_diff.plot(figsize=(20,10),label=\"2018\")\n",
    "NIFTY[(NIFTY.date>\"2018-12-31\")&(NIFTY.date<=\"2019-12-31\")].groupby('pos_param').mean().pos_diff.plot(figsize=(20,10),label=\"2019\")\n",
    "NIFTY[(NIFTY.date>\"2019-12-31\")&(NIFTY.date<=\"2020-12-31\")].groupby('pos_param').mean().pos_diff.plot(figsize=(20,10),label=\"2020\")\n",
    "NIFTY[(NIFTY.date>\"2020-12-31\")&(NIFTY.date<=\"2021-12-31\")].groupby('pos_param').mean().pos_diff.plot(figsize=(20,10),label=\"2021\")\n",
    "NIFTY[(NIFTY.date>\"2021-12-31\")&(NIFTY.date<=\"2023-12-31\")].groupby('pos_param').mean().pos_diff.plot(figsize=(20,10),label=\"2022\")\n",
    "plt.legend()\n",
    "plt.show()\n",
    "NIFTY.groupby('pos_param').mean().pos_diff.rolling(8).mean().plot(figsize=(20,10),label=\"Global\")"
   ]
  },
  {
   "cell_type": "code",
   "execution_count": null,
   "id": "c79f7b41",
   "metadata": {
    "scrolled": false
   },
   "outputs": [],
   "source": [
    "NIFTY.groupby('pos_param').mean().mov_diff.plot(figsize=(20,10),label=\"Global\")\n",
    "plt.show()\n",
    "NIFTY[(NIFTY.date>\"2016-12-31\")&(NIFTY.date<=\"2017-12-31\")].groupby('pos_param').mean().mov_diff.plot(figsize=(20,10),label=\"2017\")\n",
    "NIFTY[(NIFTY.date>\"2017-12-31\")&(NIFTY.date<=\"2018-12-31\")].groupby('pos_param').mean().mov_diff.plot(figsize=(20,10),label=\"2018\")\n",
    "NIFTY[(NIFTY.date>\"2018-12-31\")&(NIFTY.date<=\"2019-12-31\")].groupby('pos_param').mean().mov_diff.plot(figsize=(20,10),label=\"2019\")\n",
    "NIFTY[(NIFTY.date>\"2019-12-31\")&(NIFTY.date<=\"2020-12-31\")].groupby('pos_param').mean().mov_diff.plot(figsize=(20,10),label=\"2020\")\n",
    "NIFTY[(NIFTY.date>\"2020-12-31\")&(NIFTY.date<=\"2021-12-31\")].groupby('pos_param').mean().mov_diff.plot(figsize=(20,10),label=\"2021\")\n",
    "NIFTY[(NIFTY.date>\"2021-12-31\")&(NIFTY.date<=\"2023-12-31\")].groupby('pos_param').mean().mov_diff.plot(figsize=(20,10),label=\"2022\")\n",
    "plt.legend()\n",
    "plt.show()\n",
    "NIFTY.groupby('pos_param').mean().mov_diff.rolling(8).mean().plot(figsize=(20,10),label=\"Global\")"
   ]
  },
  {
   "cell_type": "code",
   "execution_count": null,
   "id": "433faceb",
   "metadata": {
    "scrolled": false
   },
   "outputs": [],
   "source": [
    "NIFTY.groupby('pos_param').mean().prof_diff.plot(figsize=(20,10),label=\"Global\")\n",
    "plt.show()\n",
    "NIFTY[(NIFTY.date>\"2016-12-31\")&(NIFTY.date<=\"2017-12-31\")].groupby('pos_param').mean().prof_diff.plot(figsize=(20,10),label=\"2017\")\n",
    "NIFTY[(NIFTY.date>\"2017-12-31\")&(NIFTY.date<=\"2018-12-31\")].groupby('pos_param').mean().prof_diff.plot(figsize=(20,10),label=\"2018\")\n",
    "NIFTY[(NIFTY.date>\"2018-12-31\")&(NIFTY.date<=\"2019-12-31\")].groupby('pos_param').mean().prof_diff.plot(figsize=(20,10),label=\"2019\")\n",
    "NIFTY[(NIFTY.date>\"2019-12-31\")&(NIFTY.date<=\"2020-12-31\")].groupby('pos_param').mean().prof_diff.plot(figsize=(20,10),label=\"2020\")\n",
    "NIFTY[(NIFTY.date>\"2020-12-31\")&(NIFTY.date<=\"2021-12-31\")].groupby('pos_param').mean().prof_diff.plot(figsize=(20,10),label=\"2021\")\n",
    "NIFTY[(NIFTY.date>\"2021-12-31\")&(NIFTY.date<=\"2023-12-31\")].groupby('pos_param').mean().prof_diff.plot(figsize=(20,10),label=\"2022\")\n",
    "plt.legend()\n",
    "plt.show()\n",
    "NIFTY.groupby('pos_param').mean().prof_diff.rolling(8).mean().plot(figsize=(20,10),label=\"Global\")"
   ]
  },
  {
   "cell_type": "markdown",
   "id": "0939771b",
   "metadata": {},
   "source": [
    "# mov"
   ]
  },
  {
   "cell_type": "code",
   "execution_count": null,
   "id": "b5d63bae",
   "metadata": {
    "scrolled": false
   },
   "outputs": [],
   "source": [
    "NIFTY.groupby('mov_param').median().taylor_sensitivity_1.plot(figsize=(20,10),label=\"Global\")\n",
    "plt.show()\n",
    "NIFTY[(NIFTY.date>\"2016-12-31\")&(NIFTY.date<=\"2017-12-31\")].groupby('mov_param').median().taylor_sensitivity_1.plot(figsize=(20,10),label=\"2017\")\n",
    "NIFTY[(NIFTY.date>\"2017-12-31\")&(NIFTY.date<=\"2018-12-31\")].groupby('mov_param').median().taylor_sensitivity_1.plot(figsize=(20,10),label=\"2018\")\n",
    "NIFTY[(NIFTY.date>\"2018-12-31\")&(NIFTY.date<=\"2019-12-31\")].groupby('mov_param').median().taylor_sensitivity_1.plot(figsize=(20,10),label=\"2019\")\n",
    "NIFTY[(NIFTY.date>\"2019-12-31\")&(NIFTY.date<=\"2020-12-31\")].groupby('mov_param').median().taylor_sensitivity_1.plot(figsize=(20,10),label=\"2020\")\n",
    "NIFTY[(NIFTY.date>\"2020-12-31\")&(NIFTY.date<=\"2021-12-31\")].groupby('mov_param').median().taylor_sensitivity_1.plot(figsize=(20,10),label=\"2021\")\n",
    "NIFTY[(NIFTY.date>\"2021-12-31\")&(NIFTY.date<=\"2023-12-31\")].groupby('mov_param').median().taylor_sensitivity_1.plot(figsize=(20,10),label=\"2022\")\n",
    "plt.legend()\n",
    "plt.show()\n",
    "NIFTY.groupby('mov_param').median().taylor_sensitivity_1.rolling(18).mean().plot(figsize=(20,10),label=\"Global\")"
   ]
  },
  {
   "cell_type": "code",
   "execution_count": null,
   "id": "c5bce575",
   "metadata": {
    "scrolled": false
   },
   "outputs": [],
   "source": [
    "NIFTY.groupby('mov_param').median().taylor_sensitivity_2.plot(figsize=(20,10),label=\"Global\")\n",
    "plt.show()\n",
    "NIFTY[(NIFTY.date>\"2016-12-31\")&(NIFTY.date<=\"2017-12-31\")].groupby('mov_param').median().taylor_sensitivity_2.plot(figsize=(20,10),label=\"2017\")\n",
    "NIFTY[(NIFTY.date>\"2017-12-31\")&(NIFTY.date<=\"2018-12-31\")].groupby('mov_param').median().taylor_sensitivity_2.plot(figsize=(20,10),label=\"2018\")\n",
    "NIFTY[(NIFTY.date>\"2018-12-31\")&(NIFTY.date<=\"2019-12-31\")].groupby('mov_param').median().taylor_sensitivity_2.plot(figsize=(20,10),label=\"2019\")\n",
    "NIFTY[(NIFTY.date>\"2019-12-31\")&(NIFTY.date<=\"2020-12-31\")].groupby('mov_param').median().taylor_sensitivity_2.plot(figsize=(20,10),label=\"2020\")\n",
    "NIFTY[(NIFTY.date>\"2020-12-31\")&(NIFTY.date<=\"2021-12-31\")].groupby('mov_param').median().taylor_sensitivity_2.plot(figsize=(20,10),label=\"2021\")\n",
    "NIFTY[(NIFTY.date>\"2021-12-31\")&(NIFTY.date<=\"2023-12-31\")].groupby('mov_param').median().taylor_sensitivity_2.plot(figsize=(20,10),label=\"2022\")\n",
    "plt.legend()\n",
    "plt.show()\n",
    "NIFTY.groupby('mov_param').median().taylor_sensitivity_2.rolling(18).mean().plot(figsize=(20,10),label=\"Global\")"
   ]
  },
  {
   "cell_type": "code",
   "execution_count": null,
   "id": "00278733",
   "metadata": {
    "scrolled": false
   },
   "outputs": [],
   "source": [
    "NIFTY.groupby('mov_param').median().taylor_sensitivity_3.plot(figsize=(20,10),label=\"Global\")\n",
    "plt.show()\n",
    "NIFTY[(NIFTY.date>\"2016-12-31\")&(NIFTY.date<=\"2017-12-31\")].groupby('mov_param').median().taylor_sensitivity_3.plot(figsize=(20,10),label=\"2017\")\n",
    "NIFTY[(NIFTY.date>\"2017-12-31\")&(NIFTY.date<=\"2018-12-31\")].groupby('mov_param').median().taylor_sensitivity_3.plot(figsize=(20,10),label=\"2018\")\n",
    "NIFTY[(NIFTY.date>\"2018-12-31\")&(NIFTY.date<=\"2019-12-31\")].groupby('mov_param').median().taylor_sensitivity_3.plot(figsize=(20,10),label=\"2019\")\n",
    "NIFTY[(NIFTY.date>\"2019-12-31\")&(NIFTY.date<=\"2020-12-31\")].groupby('mov_param').median().taylor_sensitivity_3.plot(figsize=(20,10),label=\"2020\")\n",
    "NIFTY[(NIFTY.date>\"2020-12-31\")&(NIFTY.date<=\"2021-12-31\")].groupby('mov_param').median().taylor_sensitivity_3.plot(figsize=(20,10),label=\"2021\")\n",
    "NIFTY[(NIFTY.date>\"2021-12-31\")&(NIFTY.date<=\"2023-12-31\")].groupby('mov_param').median().taylor_sensitivity_3.plot(figsize=(20,10),label=\"2022\")\n",
    "plt.legend()\n",
    "plt.show()\n",
    "NIFTY.groupby('mov_param').median().taylor_sensitivity_3.rolling(18).mean().plot(figsize=(20,10),label=\"Global\")"
   ]
  },
  {
   "cell_type": "code",
   "execution_count": null,
   "id": "ed3f3d70",
   "metadata": {
    "scrolled": false
   },
   "outputs": [],
   "source": [
    "NIFTY.groupby('mov_param').median().pnl.plot(figsize=(20,10),label=\"Global\")\n",
    "plt.show()\n",
    "NIFTY[(NIFTY.date>\"2016-12-31\")&(NIFTY.date<=\"2017-12-31\")].groupby('mov_param').median().pnl.plot(figsize=(20,10),label=\"2017\")\n",
    "NIFTY[(NIFTY.date>\"2017-12-31\")&(NIFTY.date<=\"2018-12-31\")].groupby('mov_param').median().pnl.plot(figsize=(20,10),label=\"2018\")\n",
    "NIFTY[(NIFTY.date>\"2018-12-31\")&(NIFTY.date<=\"2019-12-31\")].groupby('mov_param').median().pnl.plot(figsize=(20,10),label=\"2019\")\n",
    "NIFTY[(NIFTY.date>\"2019-12-31\")&(NIFTY.date<=\"2020-12-31\")].groupby('mov_param').median().pnl.plot(figsize=(20,10),label=\"2020\")\n",
    "NIFTY[(NIFTY.date>\"2020-12-31\")&(NIFTY.date<=\"2021-12-31\")].groupby('mov_param').median().pnl.plot(figsize=(20,10),label=\"2021\")\n",
    "NIFTY[(NIFTY.date>\"2021-12-31\")&(NIFTY.date<=\"2023-12-31\")].groupby('mov_param').median().pnl.plot(figsize=(20,10),label=\"2022\")\n",
    "plt.legend()\n",
    "plt.show()\n",
    "NIFTY.groupby('mov_param').median().pnl.rolling(18).mean().plot(figsize=(20,10),label=\"Global\")"
   ]
  },
  {
   "cell_type": "code",
   "execution_count": null,
   "id": "b9a6d798",
   "metadata": {
    "scrolled": false
   },
   "outputs": [],
   "source": [
    "NIFTY.groupby('mov_param').mean().pos_diff.plot(figsize=(20,10),label=\"Global\")\n",
    "plt.show()\n",
    "NIFTY[(NIFTY.date>\"2016-12-31\")&(NIFTY.date<=\"2017-12-31\")].groupby('mov_param').mean().pos_diff.plot(figsize=(20,10),label=\"2017\")\n",
    "NIFTY[(NIFTY.date>\"2017-12-31\")&(NIFTY.date<=\"2018-12-31\")].groupby('mov_param').mean().pos_diff.plot(figsize=(20,10),label=\"2018\")\n",
    "NIFTY[(NIFTY.date>\"2018-12-31\")&(NIFTY.date<=\"2019-12-31\")].groupby('mov_param').mean().pos_diff.plot(figsize=(20,10),label=\"2019\")\n",
    "NIFTY[(NIFTY.date>\"2019-12-31\")&(NIFTY.date<=\"2020-12-31\")].groupby('mov_param').mean().pos_diff.plot(figsize=(20,10),label=\"2020\")\n",
    "NIFTY[(NIFTY.date>\"2020-12-31\")&(NIFTY.date<=\"2021-12-31\")].groupby('mov_param').mean().pos_diff.plot(figsize=(20,10),label=\"2021\")\n",
    "NIFTY[(NIFTY.date>\"2021-12-31\")&(NIFTY.date<=\"2023-12-31\")].groupby('mov_param').mean().pos_diff.plot(figsize=(20,10),label=\"2022\")\n",
    "plt.legend()\n",
    "plt.show()\n",
    "NIFTY.groupby('mov_param').mean().pos_diff.rolling(18).mean().plot(figsize=(20,10),label=\"Global\")"
   ]
  },
  {
   "cell_type": "code",
   "execution_count": null,
   "id": "4ca35295",
   "metadata": {
    "scrolled": false
   },
   "outputs": [],
   "source": [
    "NIFTY.groupby('mov_param').mean().mov_diff.plot(figsize=(20,10),label=\"Global\")\n",
    "plt.show()\n",
    "NIFTY[(NIFTY.date>\"2016-12-31\")&(NIFTY.date<=\"2017-12-31\")].groupby('mov_param').mean().mov_diff.plot(figsize=(20,10),label=\"2017\")\n",
    "NIFTY[(NIFTY.date>\"2017-12-31\")&(NIFTY.date<=\"2018-12-31\")].groupby('mov_param').mean().mov_diff.plot(figsize=(20,10),label=\"2018\")\n",
    "NIFTY[(NIFTY.date>\"2018-12-31\")&(NIFTY.date<=\"2019-12-31\")].groupby('mov_param').mean().mov_diff.plot(figsize=(20,10),label=\"2019\")\n",
    "NIFTY[(NIFTY.date>\"2019-12-31\")&(NIFTY.date<=\"2020-12-31\")].groupby('mov_param').mean().mov_diff.plot(figsize=(20,10),label=\"2020\")\n",
    "NIFTY[(NIFTY.date>\"2020-12-31\")&(NIFTY.date<=\"2021-12-31\")].groupby('mov_param').mean().mov_diff.plot(figsize=(20,10),label=\"2021\")\n",
    "NIFTY[(NIFTY.date>\"2021-12-31\")&(NIFTY.date<=\"2023-12-31\")].groupby('mov_param').mean().mov_diff.plot(figsize=(20,10),label=\"2022\")\n",
    "plt.legend()\n",
    "plt.show()\n",
    "NIFTY.groupby('mov_param').mean().mov_diff.rolling(18).mean().plot(figsize=(20,10),label=\"Global\")"
   ]
  },
  {
   "cell_type": "code",
   "execution_count": null,
   "id": "c49f733d",
   "metadata": {
    "scrolled": false
   },
   "outputs": [],
   "source": [
    "NIFTY.groupby('mov_param').mean().prof_diff.plot(figsize=(20,10),label=\"Global\")\n",
    "plt.show()\n",
    "NIFTY[(NIFTY.date>\"2016-12-31\")&(NIFTY.date<=\"2017-12-31\")].groupby('mov_param').mean().prof_diff.plot(figsize=(20,10),label=\"2017\")\n",
    "NIFTY[(NIFTY.date>\"2017-12-31\")&(NIFTY.date<=\"2018-12-31\")].groupby('mov_param').mean().prof_diff.plot(figsize=(20,10),label=\"2018\")\n",
    "NIFTY[(NIFTY.date>\"2018-12-31\")&(NIFTY.date<=\"2019-12-31\")].groupby('mov_param').mean().prof_diff.plot(figsize=(20,10),label=\"2019\")\n",
    "NIFTY[(NIFTY.date>\"2019-12-31\")&(NIFTY.date<=\"2020-12-31\")].groupby('mov_param').mean().prof_diff.plot(figsize=(20,10),label=\"2020\")\n",
    "NIFTY[(NIFTY.date>\"2020-12-31\")&(NIFTY.date<=\"2021-12-31\")].groupby('mov_param').mean().prof_diff.plot(figsize=(20,10),label=\"2021\")\n",
    "NIFTY[(NIFTY.date>\"2021-12-31\")&(NIFTY.date<=\"2023-12-31\")].groupby('mov_param').mean().prof_diff.plot(figsize=(20,10),label=\"2022\")\n",
    "plt.legend()\n",
    "plt.show()\n",
    "NIFTY.groupby('mov_param').mean().prof_diff.rolling(18).mean().plot(figsize=(20,10),label=\"Global\")"
   ]
  },
  {
   "cell_type": "markdown",
   "id": "f3da98b7",
   "metadata": {},
   "source": [
    "# prof"
   ]
  },
  {
   "cell_type": "code",
   "execution_count": null,
   "id": "cc7e8b53",
   "metadata": {},
   "outputs": [],
   "source": [
    "NIFTY.groupby('prof_param').median().taylor_sensitivity_1.plot(figsize=(20,10),label=\"Global\")\n",
    "plt.show()\n",
    "NIFTY[(NIFTY.date>\"2016-12-31\")&(NIFTY.date<=\"2017-12-31\")].groupby('prof_param').median().taylor_sensitivity_1.plot(figsize=(20,10),label=\"2017\")\n",
    "NIFTY[(NIFTY.date>\"2017-12-31\")&(NIFTY.date<=\"2018-12-31\")].groupby('prof_param').median().taylor_sensitivity_1.plot(figsize=(20,10),label=\"2018\")\n",
    "NIFTY[(NIFTY.date>\"2018-12-31\")&(NIFTY.date<=\"2019-12-31\")].groupby('prof_param').median().taylor_sensitivity_1.plot(figsize=(20,10),label=\"2019\")\n",
    "NIFTY[(NIFTY.date>\"2019-12-31\")&(NIFTY.date<=\"2020-12-31\")].groupby('prof_param').median().taylor_sensitivity_1.plot(figsize=(20,10),label=\"2020\")\n",
    "NIFTY[(NIFTY.date>\"2020-12-31\")&(NIFTY.date<=\"2021-12-31\")].groupby('prof_param').median().taylor_sensitivity_1.plot(figsize=(20,10),label=\"2021\")\n",
    "NIFTY[(NIFTY.date>\"2021-12-31\")&(NIFTY.date<=\"2023-12-31\")].groupby('prof_param').median().taylor_sensitivity_1.plot(figsize=(20,10),label=\"2022\")\n",
    "plt.legend()\n",
    "plt.show()\n",
    "NIFTY.groupby('prof_param').median().taylor_sensitivity_1.rolling(9).mean().plot(figsize=(20,10),label=\"Global\")"
   ]
  },
  {
   "cell_type": "code",
   "execution_count": null,
   "id": "d55e64d7",
   "metadata": {},
   "outputs": [],
   "source": [
    "NIFTY.groupby('prof_param').median().taylor_sensitivity_2.plot(figsize=(20,10),label=\"Global\")\n",
    "plt.show()\n",
    "NIFTY[(NIFTY.date>\"2016-12-31\")&(NIFTY.date<=\"2017-12-31\")].groupby('prof_param').median().taylor_sensitivity_2.plot(figsize=(20,10),label=\"2017\")\n",
    "NIFTY[(NIFTY.date>\"2017-12-31\")&(NIFTY.date<=\"2018-12-31\")].groupby('prof_param').median().taylor_sensitivity_2.plot(figsize=(20,10),label=\"2018\")\n",
    "NIFTY[(NIFTY.date>\"2018-12-31\")&(NIFTY.date<=\"2019-12-31\")].groupby('prof_param').median().taylor_sensitivity_2.plot(figsize=(20,10),label=\"2019\")\n",
    "NIFTY[(NIFTY.date>\"2019-12-31\")&(NIFTY.date<=\"2020-12-31\")].groupby('prof_param').median().taylor_sensitivity_2.plot(figsize=(20,10),label=\"2020\")\n",
    "NIFTY[(NIFTY.date>\"2020-12-31\")&(NIFTY.date<=\"2021-12-31\")].groupby('prof_param').median().taylor_sensitivity_2.plot(figsize=(20,10),label=\"2021\")\n",
    "NIFTY[(NIFTY.date>\"2021-12-31\")&(NIFTY.date<=\"2023-12-31\")].groupby('prof_param').median().taylor_sensitivity_2.plot(figsize=(20,10),label=\"2022\")\n",
    "plt.legend()\n",
    "plt.show()\n",
    "NIFTY.groupby('prof_param').median().taylor_sensitivity_2.rolling(9).mean().plot(figsize=(20,10),label=\"Global\")"
   ]
  },
  {
   "cell_type": "code",
   "execution_count": null,
   "id": "b638abcf",
   "metadata": {},
   "outputs": [],
   "source": [
    "NIFTY.groupby('prof_param').median().taylor_sensitivity_3.plot(figsize=(20,10),label=\"Global\")\n",
    "plt.show()\n",
    "NIFTY[(NIFTY.date>\"2016-12-31\")&(NIFTY.date<=\"2017-12-31\")].groupby('prof_param').median().taylor_sensitivity_3.plot(figsize=(20,10),label=\"2017\")\n",
    "NIFTY[(NIFTY.date>\"2017-12-31\")&(NIFTY.date<=\"2018-12-31\")].groupby('prof_param').median().taylor_sensitivity_3.plot(figsize=(20,10),label=\"2018\")\n",
    "NIFTY[(NIFTY.date>\"2018-12-31\")&(NIFTY.date<=\"2019-12-31\")].groupby('prof_param').median().taylor_sensitivity_3.plot(figsize=(20,10),label=\"2019\")\n",
    "NIFTY[(NIFTY.date>\"2019-12-31\")&(NIFTY.date<=\"2020-12-31\")].groupby('prof_param').median().taylor_sensitivity_3.plot(figsize=(20,10),label=\"2020\")\n",
    "NIFTY[(NIFTY.date>\"2020-12-31\")&(NIFTY.date<=\"2021-12-31\")].groupby('prof_param').median().taylor_sensitivity_3.plot(figsize=(20,10),label=\"2021\")\n",
    "NIFTY[(NIFTY.date>\"2021-12-31\")&(NIFTY.date<=\"2023-12-31\")].groupby('prof_param').median().taylor_sensitivity_3.plot(figsize=(20,10),label=\"2022\")\n",
    "plt.legend()\n",
    "plt.show()\n",
    "NIFTY.groupby('prof_param').median().taylor_sensitivity_3.rolling(9).mean().plot(figsize=(20,10),label=\"Global\")"
   ]
  },
  {
   "cell_type": "code",
   "execution_count": null,
   "id": "222274ce",
   "metadata": {},
   "outputs": [],
   "source": [
    "NIFTY.groupby('prof_param').median().pnl.plot(figsize=(20,10),label=\"Global\")\n",
    "plt.show()\n",
    "NIFTY[(NIFTY.date>\"2016-12-31\")&(NIFTY.date<=\"2017-12-31\")].groupby('prof_param').median().pnl.plot(figsize=(20,10),label=\"2017\")\n",
    "NIFTY[(NIFTY.date>\"2017-12-31\")&(NIFTY.date<=\"2018-12-31\")].groupby('prof_param').median().pnl.plot(figsize=(20,10),label=\"2018\")\n",
    "NIFTY[(NIFTY.date>\"2018-12-31\")&(NIFTY.date<=\"2019-12-31\")].groupby('prof_param').median().pnl.plot(figsize=(20,10),label=\"2019\")\n",
    "NIFTY[(NIFTY.date>\"2019-12-31\")&(NIFTY.date<=\"2020-12-31\")].groupby('prof_param').median().pnl.plot(figsize=(20,10),label=\"2020\")\n",
    "NIFTY[(NIFTY.date>\"2020-12-31\")&(NIFTY.date<=\"2021-12-31\")].groupby('prof_param').median().pnl.plot(figsize=(20,10),label=\"2021\")\n",
    "NIFTY[(NIFTY.date>\"2021-12-31\")&(NIFTY.date<=\"2023-12-31\")].groupby('prof_param').median().pnl.plot(figsize=(20,10),label=\"2022\")\n",
    "plt.legend()\n",
    "plt.show()\n",
    "NIFTY.groupby('prof_param').median().pnl.rolling(9).mean().plot(figsize=(20,10),label=\"Global\")"
   ]
  },
  {
   "cell_type": "code",
   "execution_count": null,
   "id": "c4355786",
   "metadata": {},
   "outputs": [],
   "source": [
    "NIFTY.groupby('prof_param').mean().pos_diff.plot(figsize=(20,10),label=\"Global\")\n",
    "plt.show()\n",
    "NIFTY[(NIFTY.date>\"2016-12-31\")&(NIFTY.date<=\"2017-12-31\")].groupby('prof_param').mean().pos_diff.plot(figsize=(20,10),label=\"2017\")\n",
    "NIFTY[(NIFTY.date>\"2017-12-31\")&(NIFTY.date<=\"2018-12-31\")].groupby('prof_param').mean().pos_diff.plot(figsize=(20,10),label=\"2018\")\n",
    "NIFTY[(NIFTY.date>\"2018-12-31\")&(NIFTY.date<=\"2019-12-31\")].groupby('prof_param').mean().pos_diff.plot(figsize=(20,10),label=\"2019\")\n",
    "NIFTY[(NIFTY.date>\"2019-12-31\")&(NIFTY.date<=\"2020-12-31\")].groupby('prof_param').mean().pos_diff.plot(figsize=(20,10),label=\"2020\")\n",
    "NIFTY[(NIFTY.date>\"2020-12-31\")&(NIFTY.date<=\"2021-12-31\")].groupby('prof_param').mean().pos_diff.plot(figsize=(20,10),label=\"2021\")\n",
    "NIFTY[(NIFTY.date>\"2021-12-31\")&(NIFTY.date<=\"2023-12-31\")].groupby('prof_param').mean().pos_diff.plot(figsize=(20,10),label=\"2022\")\n",
    "plt.legend()\n",
    "plt.show()\n",
    "NIFTY.groupby('prof_param').mean().pos_diff.rolling(9).mean().plot(figsize=(20,10),label=\"Global\")"
   ]
  },
  {
   "cell_type": "code",
   "execution_count": null,
   "id": "ec62c248",
   "metadata": {},
   "outputs": [],
   "source": [
    "NIFTY.groupby('prof_param').mean().mov_diff.plot(figsize=(20,10),label=\"Global\")\n",
    "plt.show()\n",
    "NIFTY[(NIFTY.date>\"2016-12-31\")&(NIFTY.date<=\"2017-12-31\")].groupby('prof_param').mean().mov_diff.plot(figsize=(20,10),label=\"2017\")\n",
    "NIFTY[(NIFTY.date>\"2017-12-31\")&(NIFTY.date<=\"2018-12-31\")].groupby('prof_param').mean().mov_diff.plot(figsize=(20,10),label=\"2018\")\n",
    "NIFTY[(NIFTY.date>\"2018-12-31\")&(NIFTY.date<=\"2019-12-31\")].groupby('prof_param').mean().mov_diff.plot(figsize=(20,10),label=\"2019\")\n",
    "NIFTY[(NIFTY.date>\"2019-12-31\")&(NIFTY.date<=\"2020-12-31\")].groupby('prof_param').mean().mov_diff.plot(figsize=(20,10),label=\"2020\")\n",
    "NIFTY[(NIFTY.date>\"2020-12-31\")&(NIFTY.date<=\"2021-12-31\")].groupby('prof_param').mean().mov_diff.plot(figsize=(20,10),label=\"2021\")\n",
    "NIFTY[(NIFTY.date>\"2021-12-31\")&(NIFTY.date<=\"2023-12-31\")].groupby('prof_param').mean().mov_diff.plot(figsize=(20,10),label=\"2022\")\n",
    "plt.legend()\n",
    "plt.show()\n",
    "NIFTY.groupby('prof_param').mean().mov_diff.rolling(9).mean().plot(figsize=(20,10),label=\"Global\")"
   ]
  },
  {
   "cell_type": "code",
   "execution_count": null,
   "id": "159ccc97",
   "metadata": {
    "scrolled": false
   },
   "outputs": [],
   "source": [
    "NIFTY.groupby('prof_param').mean().prof_diff.plot(figsize=(20,10),label=\"Global\")\n",
    "plt.show()\n",
    "NIFTY[(NIFTY.date>\"2016-12-31\")&(NIFTY.date<=\"2017-12-31\")].groupby('prof_param').mean().prof_diff.plot(figsize=(20,10),label=\"2017\")\n",
    "NIFTY[(NIFTY.date>\"2017-12-31\")&(NIFTY.date<=\"2018-12-31\")].groupby('prof_param').mean().prof_diff.plot(figsize=(20,10),label=\"2018\")\n",
    "NIFTY[(NIFTY.date>\"2018-12-31\")&(NIFTY.date<=\"2019-12-31\")].groupby('prof_param').mean().prof_diff.plot(figsize=(20,10),label=\"2019\")\n",
    "NIFTY[(NIFTY.date>\"2019-12-31\")&(NIFTY.date<=\"2020-12-31\")].groupby('prof_param').mean().prof_diff.plot(figsize=(20,10),label=\"2020\")\n",
    "NIFTY[(NIFTY.date>\"2020-12-31\")&(NIFTY.date<=\"2021-12-31\")].groupby('prof_param').mean().prof_diff.plot(figsize=(20,10),label=\"2021\")\n",
    "NIFTY[(NIFTY.date>\"2021-12-31\")&(NIFTY.date<=\"2023-12-31\")].groupby('prof_param').mean().prof_diff.plot(figsize=(20,10),label=\"2022\")\n",
    "plt.legend()\n",
    "plt.show()\n",
    "NIFTY.groupby('prof_param').mean().prof_diff.rolling(9).mean().plot(figsize=(20,10),label=\"Global\")"
   ]
  }
 ],
 "metadata": {
  "kernelspec": {
   "display_name": "Python 3 (ipykernel)",
   "language": "python",
   "name": "python3"
  },
  "language_info": {
   "codemirror_mode": {
    "name": "ipython",
    "version": 3
   },
   "file_extension": ".py",
   "mimetype": "text/x-python",
   "name": "python",
   "nbconvert_exporter": "python",
   "pygments_lexer": "ipython3",
   "version": "3.9.15"
  }
 },
 "nbformat": 4,
 "nbformat_minor": 5
}
